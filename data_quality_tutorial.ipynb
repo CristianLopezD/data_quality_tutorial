{
  "cells": [
    {
      "cell_type": "markdown",
      "metadata": {
        "id": "XStGiLlkwMf5"
      },
      "source": [
        "# Data Quality Tutorial\n",
        "\n",
        "Dataset: Homicidos, Colombia"
      ]
    },
    {
      "cell_type": "code",
      "source": [
        "pip install pylev"
      ],
      "metadata": {
        "colab": {
          "base_uri": "https://localhost:8080/"
        },
        "id": "4-6XPHq7xkLz",
        "outputId": "4aaebdf6-a29d-4d04-d2f0-d9a1ae51fee1"
      },
      "execution_count": null,
      "outputs": [
        {
          "output_type": "stream",
          "name": "stdout",
          "text": [
            "Requirement already satisfied: pylev in /usr/local/lib/python3.7/dist-packages (1.4.0)\n"
          ]
        }
      ]
    },
    {
      "cell_type": "code",
      "execution_count": null,
      "metadata": {
        "id": "hOIYtkfrwMf-"
      },
      "outputs": [],
      "source": [
        "# Importing required libraries\n",
        "\n",
        "import re\n",
        "from random import randint\n",
        "from datetime import datetime\n",
        "\n",
        "import numpy as np\n",
        "import pandas as pd\n",
        "\n",
        "import pylev"
      ]
    },
    {
      "cell_type": "code",
      "execution_count": null,
      "metadata": {
        "id": "qXy9RoCRwMf_"
      },
      "outputs": [],
      "source": [
        "# Parameter for showing all columns when printing a dataframe\n",
        "pd.set_option('display.max_columns', None)"
      ]
    },
    {
      "cell_type": "code",
      "execution_count": null,
      "metadata": {
        "id": "MsqtGkg6wMgA"
      },
      "outputs": [],
      "source": [
        "# Loading data\n",
        "homicides_df = pd.read_csv(\"homicides.csv\")"
      ]
    },
    {
      "cell_type": "code",
      "execution_count": null,
      "metadata": {
        "colab": {
          "base_uri": "https://localhost:8080/"
        },
        "id": "hnXnmxJ2wMgA",
        "outputId": "3bcdae04-d947-4a98-e820-5c23120c1f51"
      },
      "outputs": [
        {
          "output_type": "execute_result",
          "data": {
            "text/plain": [
              "(12400, 23)"
            ]
          },
          "metadata": {},
          "execution_count": 54
        }
      ],
      "source": [
        "# Printing the dataset dimensions\n",
        "homicides_df.shape"
      ]
    },
    {
      "cell_type": "code",
      "execution_count": null,
      "metadata": {
        "colab": {
          "base_uri": "https://localhost:8080/"
        },
        "id": "pUBAwmRkwMgB",
        "outputId": "05c4be9a-7306-416d-ca17-3378dd87fc62"
      },
      "outputs": [
        {
          "output_type": "execute_result",
          "data": {
            "text/plain": [
              "FECHA                 object\n",
              "DEPARTAMENTO          object\n",
              "MUNICIPIO             object\n",
              "DIA                   object\n",
              "HORA                  object\n",
              "BARRIO                object\n",
              "ZONA                  object\n",
              "CLASE DE SITIO        object\n",
              "ARMA O MEDIO          object\n",
              "MOVIL VICTIMA         object\n",
              "MOVIL AGRESOR         object\n",
              "EDAD                 float64\n",
              "GENERO                object\n",
              "ESTADO CIVIL          object\n",
              "CLASE EMPLEADO        object\n",
              "PROFESION             object\n",
              "ESCOLARIDAD           object\n",
              "PAIS NACE             object\n",
              "CODIGO DANE          float64\n",
              "2015                   int64\n",
              "AÑO DE NACIMIENTO    float64\n",
              "CÉDULA                object\n",
              "CORREO                object\n",
              "dtype: object"
            ]
          },
          "metadata": {},
          "execution_count": 55
        }
      ],
      "source": [
        "# Printing column data types\n",
        "homicides_df.dtypes"
      ]
    },
    {
      "cell_type": "code",
      "execution_count": null,
      "metadata": {
        "id": "dknk0Jv6wMgB"
      },
      "outputs": [],
      "source": [
        "# Deleting constant column\n",
        "del homicides_df[\"2015\"]"
      ]
    },
    {
      "cell_type": "code",
      "execution_count": null,
      "metadata": {
        "colab": {
          "base_uri": "https://localhost:8080/",
          "height": 478
        },
        "id": "o6QiyD_xwMgB",
        "outputId": "8cdd7408-5ca7-4460-a15c-b625051f6eaa"
      },
      "outputs": [
        {
          "output_type": "execute_result",
          "data": {
            "text/plain": [
              "                    FECHA DEPARTAMENTO      MUNICIPIO     DIA   HORA  \\\n",
              "0  01/01/2015 12:00:00 AM    ANTIOQUIA          AMAGÁ  Jueves   6:00   \n",
              "1  01/01/2015 12:00:00 AM    ANTIOQUIA        BARBOSA  Jueves   9:00   \n",
              "2  01/01/2015 12:00:00 AM    ANTIOQUIA       EL BAGRE  Jueves  19:00   \n",
              "3  01/01/2015 12:00:00 AM    ANTIOQUIA         JARDÍN  Jueves  11:20   \n",
              "4  01/01/2015 12:00:00 AM    ANTIOQUIA  MEDELLÍN (CT)   Juees  15:00   \n",
              "\n",
              "                     BARRIO    ZONA                      CLASE DE SITIO  \\\n",
              "0                 EL VOLCAN   RURAL                              TIENDA   \n",
              "1            VDA. MATASANOS   RURAL                       VIAS PUBLICAS   \n",
              "2             PUERTO CLAVER   RURAL                  FINCAS Y SIMILARES   \n",
              "3                CRISTIANIA   RURAL                  FINCAS Y SIMILARES   \n",
              "4  PICACHITO CNO REPORTADO6  URBANA  FRENTE A RESIDENCIAS - VIA PUBLICA   \n",
              "\n",
              "   ARMA O MEDIO MOVIL VICTIMA MOVIL AGRESOR  EDAD     GENERO ESTADO CIVIL  \\\n",
              "0   ARMA BLANCA         A PIE         A PIE  44.0  MASCULINO       CASADO   \n",
              "1   ARMA BLANCA         A PIE         A PIE  30.0  MASCULINO      SOLTERO   \n",
              "2   ARMA BLANCA         A PIE         A PIE  33.0  MASCULINO  UNION LIBRE   \n",
              "3   ARMA BLANCA         A PIE         A PIE  40.0  MASCULINO       CASADO   \n",
              "4  CONTUNDENTES         A PIE         A PIE  66.0  MASCULINO  UNION LIBRE   \n",
              "\n",
              "  CLASE EMPLEADO     PROFESION ESCOLARIDAD     PAIS NACE  CODIGO DANE  \\\n",
              "0  INDEPENDIENTE  NO REPORTADO    PRIMARIA      COLOMBIA    5030000.0   \n",
              "1    DESEMPLEADO  NO REPORTADO  SECUNDARIA  NO REPORTADO    5079000.0   \n",
              "2     AGRICULTOR  NO REPORTADO    PRIMARIA      COLOMBIA    5250000.0   \n",
              "3     AGRICULTOR  NO REPORTADO    PRIMARIA      COLOMBIA    5364000.0   \n",
              "4    DESEMPLEADO  NO REPORTADO    PRIMARIA      COLOMBIA    5001000.0   \n",
              "\n",
              "   AÑO DE NACIMIENTO  CÉDULA                      CORREO  \n",
              "0             1978.0  42-908  agbnqg2122@unidatos.edu.co  \n",
              "1             1992.0  15-183        rbkeui3584@gmail.com  \n",
              "2             1989.0  84-786  aorkhf9155@unidatos.edu.co  \n",
              "3             1982.0  31-289  dhtemr6623@unidatos.edu.co  \n",
              "4             1956.0  66-363  artatj9268@unidatos.edu.co  "
            ],
            "text/html": [
              "\n",
              "  <div id=\"df-0869a3f3-5e8f-4423-a137-f024d80f2e9f\">\n",
              "    <div class=\"colab-df-container\">\n",
              "      <div>\n",
              "<style scoped>\n",
              "    .dataframe tbody tr th:only-of-type {\n",
              "        vertical-align: middle;\n",
              "    }\n",
              "\n",
              "    .dataframe tbody tr th {\n",
              "        vertical-align: top;\n",
              "    }\n",
              "\n",
              "    .dataframe thead th {\n",
              "        text-align: right;\n",
              "    }\n",
              "</style>\n",
              "<table border=\"1\" class=\"dataframe\">\n",
              "  <thead>\n",
              "    <tr style=\"text-align: right;\">\n",
              "      <th></th>\n",
              "      <th>FECHA</th>\n",
              "      <th>DEPARTAMENTO</th>\n",
              "      <th>MUNICIPIO</th>\n",
              "      <th>DIA</th>\n",
              "      <th>HORA</th>\n",
              "      <th>BARRIO</th>\n",
              "      <th>ZONA</th>\n",
              "      <th>CLASE DE SITIO</th>\n",
              "      <th>ARMA O MEDIO</th>\n",
              "      <th>MOVIL VICTIMA</th>\n",
              "      <th>MOVIL AGRESOR</th>\n",
              "      <th>EDAD</th>\n",
              "      <th>GENERO</th>\n",
              "      <th>ESTADO CIVIL</th>\n",
              "      <th>CLASE EMPLEADO</th>\n",
              "      <th>PROFESION</th>\n",
              "      <th>ESCOLARIDAD</th>\n",
              "      <th>PAIS NACE</th>\n",
              "      <th>CODIGO DANE</th>\n",
              "      <th>AÑO DE NACIMIENTO</th>\n",
              "      <th>CÉDULA</th>\n",
              "      <th>CORREO</th>\n",
              "    </tr>\n",
              "  </thead>\n",
              "  <tbody>\n",
              "    <tr>\n",
              "      <th>0</th>\n",
              "      <td>01/01/2015 12:00:00 AM</td>\n",
              "      <td>ANTIOQUIA</td>\n",
              "      <td>AMAGÁ</td>\n",
              "      <td>Jueves</td>\n",
              "      <td>6:00</td>\n",
              "      <td>EL VOLCAN</td>\n",
              "      <td>RURAL</td>\n",
              "      <td>TIENDA</td>\n",
              "      <td>ARMA BLANCA</td>\n",
              "      <td>A PIE</td>\n",
              "      <td>A PIE</td>\n",
              "      <td>44.0</td>\n",
              "      <td>MASCULINO</td>\n",
              "      <td>CASADO</td>\n",
              "      <td>INDEPENDIENTE</td>\n",
              "      <td>NO REPORTADO</td>\n",
              "      <td>PRIMARIA</td>\n",
              "      <td>COLOMBIA</td>\n",
              "      <td>5030000.0</td>\n",
              "      <td>1978.0</td>\n",
              "      <td>42-908</td>\n",
              "      <td>agbnqg2122@unidatos.edu.co</td>\n",
              "    </tr>\n",
              "    <tr>\n",
              "      <th>1</th>\n",
              "      <td>01/01/2015 12:00:00 AM</td>\n",
              "      <td>ANTIOQUIA</td>\n",
              "      <td>BARBOSA</td>\n",
              "      <td>Jueves</td>\n",
              "      <td>9:00</td>\n",
              "      <td>VDA. MATASANOS</td>\n",
              "      <td>RURAL</td>\n",
              "      <td>VIAS PUBLICAS</td>\n",
              "      <td>ARMA BLANCA</td>\n",
              "      <td>A PIE</td>\n",
              "      <td>A PIE</td>\n",
              "      <td>30.0</td>\n",
              "      <td>MASCULINO</td>\n",
              "      <td>SOLTERO</td>\n",
              "      <td>DESEMPLEADO</td>\n",
              "      <td>NO REPORTADO</td>\n",
              "      <td>SECUNDARIA</td>\n",
              "      <td>NO REPORTADO</td>\n",
              "      <td>5079000.0</td>\n",
              "      <td>1992.0</td>\n",
              "      <td>15-183</td>\n",
              "      <td>rbkeui3584@gmail.com</td>\n",
              "    </tr>\n",
              "    <tr>\n",
              "      <th>2</th>\n",
              "      <td>01/01/2015 12:00:00 AM</td>\n",
              "      <td>ANTIOQUIA</td>\n",
              "      <td>EL BAGRE</td>\n",
              "      <td>Jueves</td>\n",
              "      <td>19:00</td>\n",
              "      <td>PUERTO CLAVER</td>\n",
              "      <td>RURAL</td>\n",
              "      <td>FINCAS Y SIMILARES</td>\n",
              "      <td>ARMA BLANCA</td>\n",
              "      <td>A PIE</td>\n",
              "      <td>A PIE</td>\n",
              "      <td>33.0</td>\n",
              "      <td>MASCULINO</td>\n",
              "      <td>UNION LIBRE</td>\n",
              "      <td>AGRICULTOR</td>\n",
              "      <td>NO REPORTADO</td>\n",
              "      <td>PRIMARIA</td>\n",
              "      <td>COLOMBIA</td>\n",
              "      <td>5250000.0</td>\n",
              "      <td>1989.0</td>\n",
              "      <td>84-786</td>\n",
              "      <td>aorkhf9155@unidatos.edu.co</td>\n",
              "    </tr>\n",
              "    <tr>\n",
              "      <th>3</th>\n",
              "      <td>01/01/2015 12:00:00 AM</td>\n",
              "      <td>ANTIOQUIA</td>\n",
              "      <td>JARDÍN</td>\n",
              "      <td>Jueves</td>\n",
              "      <td>11:20</td>\n",
              "      <td>CRISTIANIA</td>\n",
              "      <td>RURAL</td>\n",
              "      <td>FINCAS Y SIMILARES</td>\n",
              "      <td>ARMA BLANCA</td>\n",
              "      <td>A PIE</td>\n",
              "      <td>A PIE</td>\n",
              "      <td>40.0</td>\n",
              "      <td>MASCULINO</td>\n",
              "      <td>CASADO</td>\n",
              "      <td>AGRICULTOR</td>\n",
              "      <td>NO REPORTADO</td>\n",
              "      <td>PRIMARIA</td>\n",
              "      <td>COLOMBIA</td>\n",
              "      <td>5364000.0</td>\n",
              "      <td>1982.0</td>\n",
              "      <td>31-289</td>\n",
              "      <td>dhtemr6623@unidatos.edu.co</td>\n",
              "    </tr>\n",
              "    <tr>\n",
              "      <th>4</th>\n",
              "      <td>01/01/2015 12:00:00 AM</td>\n",
              "      <td>ANTIOQUIA</td>\n",
              "      <td>MEDELLÍN (CT)</td>\n",
              "      <td>Juees</td>\n",
              "      <td>15:00</td>\n",
              "      <td>PICACHITO CNO REPORTADO6</td>\n",
              "      <td>URBANA</td>\n",
              "      <td>FRENTE A RESIDENCIAS - VIA PUBLICA</td>\n",
              "      <td>CONTUNDENTES</td>\n",
              "      <td>A PIE</td>\n",
              "      <td>A PIE</td>\n",
              "      <td>66.0</td>\n",
              "      <td>MASCULINO</td>\n",
              "      <td>UNION LIBRE</td>\n",
              "      <td>DESEMPLEADO</td>\n",
              "      <td>NO REPORTADO</td>\n",
              "      <td>PRIMARIA</td>\n",
              "      <td>COLOMBIA</td>\n",
              "      <td>5001000.0</td>\n",
              "      <td>1956.0</td>\n",
              "      <td>66-363</td>\n",
              "      <td>artatj9268@unidatos.edu.co</td>\n",
              "    </tr>\n",
              "  </tbody>\n",
              "</table>\n",
              "</div>\n",
              "      <button class=\"colab-df-convert\" onclick=\"convertToInteractive('df-0869a3f3-5e8f-4423-a137-f024d80f2e9f')\"\n",
              "              title=\"Convert this dataframe to an interactive table.\"\n",
              "              style=\"display:none;\">\n",
              "        \n",
              "  <svg xmlns=\"http://www.w3.org/2000/svg\" height=\"24px\"viewBox=\"0 0 24 24\"\n",
              "       width=\"24px\">\n",
              "    <path d=\"M0 0h24v24H0V0z\" fill=\"none\"/>\n",
              "    <path d=\"M18.56 5.44l.94 2.06.94-2.06 2.06-.94-2.06-.94-.94-2.06-.94 2.06-2.06.94zm-11 1L8.5 8.5l.94-2.06 2.06-.94-2.06-.94L8.5 2.5l-.94 2.06-2.06.94zm10 10l.94 2.06.94-2.06 2.06-.94-2.06-.94-.94-2.06-.94 2.06-2.06.94z\"/><path d=\"M17.41 7.96l-1.37-1.37c-.4-.4-.92-.59-1.43-.59-.52 0-1.04.2-1.43.59L10.3 9.45l-7.72 7.72c-.78.78-.78 2.05 0 2.83L4 21.41c.39.39.9.59 1.41.59.51 0 1.02-.2 1.41-.59l7.78-7.78 2.81-2.81c.8-.78.8-2.07 0-2.86zM5.41 20L4 18.59l7.72-7.72 1.47 1.35L5.41 20z\"/>\n",
              "  </svg>\n",
              "      </button>\n",
              "      \n",
              "  <style>\n",
              "    .colab-df-container {\n",
              "      display:flex;\n",
              "      flex-wrap:wrap;\n",
              "      gap: 12px;\n",
              "    }\n",
              "\n",
              "    .colab-df-convert {\n",
              "      background-color: #E8F0FE;\n",
              "      border: none;\n",
              "      border-radius: 50%;\n",
              "      cursor: pointer;\n",
              "      display: none;\n",
              "      fill: #1967D2;\n",
              "      height: 32px;\n",
              "      padding: 0 0 0 0;\n",
              "      width: 32px;\n",
              "    }\n",
              "\n",
              "    .colab-df-convert:hover {\n",
              "      background-color: #E2EBFA;\n",
              "      box-shadow: 0px 1px 2px rgba(60, 64, 67, 0.3), 0px 1px 3px 1px rgba(60, 64, 67, 0.15);\n",
              "      fill: #174EA6;\n",
              "    }\n",
              "\n",
              "    [theme=dark] .colab-df-convert {\n",
              "      background-color: #3B4455;\n",
              "      fill: #D2E3FC;\n",
              "    }\n",
              "\n",
              "    [theme=dark] .colab-df-convert:hover {\n",
              "      background-color: #434B5C;\n",
              "      box-shadow: 0px 1px 3px 1px rgba(0, 0, 0, 0.15);\n",
              "      filter: drop-shadow(0px 1px 2px rgba(0, 0, 0, 0.3));\n",
              "      fill: #FFFFFF;\n",
              "    }\n",
              "  </style>\n",
              "\n",
              "      <script>\n",
              "        const buttonEl =\n",
              "          document.querySelector('#df-0869a3f3-5e8f-4423-a137-f024d80f2e9f button.colab-df-convert');\n",
              "        buttonEl.style.display =\n",
              "          google.colab.kernel.accessAllowed ? 'block' : 'none';\n",
              "\n",
              "        async function convertToInteractive(key) {\n",
              "          const element = document.querySelector('#df-0869a3f3-5e8f-4423-a137-f024d80f2e9f');\n",
              "          const dataTable =\n",
              "            await google.colab.kernel.invokeFunction('convertToInteractive',\n",
              "                                                     [key], {});\n",
              "          if (!dataTable) return;\n",
              "\n",
              "          const docLinkHtml = 'Like what you see? Visit the ' +\n",
              "            '<a target=\"_blank\" href=https://colab.research.google.com/notebooks/data_table.ipynb>data table notebook</a>'\n",
              "            + ' to learn more about interactive tables.';\n",
              "          element.innerHTML = '';\n",
              "          dataTable['output_type'] = 'display_data';\n",
              "          await google.colab.output.renderOutput(dataTable, element);\n",
              "          const docLink = document.createElement('div');\n",
              "          docLink.innerHTML = docLinkHtml;\n",
              "          element.appendChild(docLink);\n",
              "        }\n",
              "      </script>\n",
              "    </div>\n",
              "  </div>\n",
              "  "
            ]
          },
          "metadata": {},
          "execution_count": 57
        }
      ],
      "source": [
        "homicides_df.head()"
      ]
    },
    {
      "cell_type": "code",
      "execution_count": null,
      "metadata": {
        "id": "VMTOID_MwMgC"
      },
      "outputs": [],
      "source": [
        "# Creating a lambda expression for datetime parsing\n",
        "dateparse = lambda x: datetime.strptime(x, \"%m/%d/%Y %H:%M:%S %p\")"
      ]
    },
    {
      "cell_type": "code",
      "execution_count": null,
      "metadata": {
        "colab": {
          "base_uri": "https://localhost:8080/",
          "height": 364
        },
        "id": "G0daQWncwMgD",
        "outputId": "9da33068-9f1c-4ab9-ae15-4762a0a5d904"
      },
      "outputs": [
        {
          "output_type": "error",
          "ename": "ValueError",
          "evalue": "ignored",
          "traceback": [
            "\u001b[0;31m---------------------------------------------------------------------------\u001b[0m",
            "\u001b[0;31mValueError\u001b[0m                                Traceback (most recent call last)",
            "\u001b[0;32m<ipython-input-59-4adcb6515e66>\u001b[0m in \u001b[0;36m<module>\u001b[0;34m()\u001b[0m\n\u001b[1;32m      1\u001b[0m \u001b[0;31m# Applying the validation to all values in column\u001b[0m\u001b[0;34m\u001b[0m\u001b[0;34m\u001b[0m\u001b[0;34m\u001b[0m\u001b[0m\n\u001b[0;32m----> 2\u001b[0;31m \u001b[0mhomicides_df\u001b[0m\u001b[0;34m[\u001b[0m\u001b[0;34m\"FECHA\"\u001b[0m\u001b[0;34m]\u001b[0m\u001b[0;34m.\u001b[0m\u001b[0mapply\u001b[0m\u001b[0;34m(\u001b[0m\u001b[0mdateparse\u001b[0m\u001b[0;34m)\u001b[0m\u001b[0;34m\u001b[0m\u001b[0;34m\u001b[0m\u001b[0m\n\u001b[0m\u001b[1;32m      3\u001b[0m \u001b[0;34m\u001b[0m\u001b[0m\n\u001b[1;32m      4\u001b[0m \u001b[0;31m# IT IS EXPECTED TO HAVE AN ERROR INTENTIONALLY\u001b[0m\u001b[0;34m\u001b[0m\u001b[0;34m\u001b[0m\u001b[0;34m\u001b[0m\u001b[0m\n",
            "\u001b[0;32m/usr/local/lib/python3.7/dist-packages/pandas/core/series.py\u001b[0m in \u001b[0;36mapply\u001b[0;34m(self, func, convert_dtype, args, **kwargs)\u001b[0m\n\u001b[1;32m   4355\u001b[0m         \u001b[0mdtype\u001b[0m\u001b[0;34m:\u001b[0m \u001b[0mfloat64\u001b[0m\u001b[0;34m\u001b[0m\u001b[0;34m\u001b[0m\u001b[0m\n\u001b[1;32m   4356\u001b[0m         \"\"\"\n\u001b[0;32m-> 4357\u001b[0;31m         \u001b[0;32mreturn\u001b[0m \u001b[0mSeriesApply\u001b[0m\u001b[0;34m(\u001b[0m\u001b[0mself\u001b[0m\u001b[0;34m,\u001b[0m \u001b[0mfunc\u001b[0m\u001b[0;34m,\u001b[0m \u001b[0mconvert_dtype\u001b[0m\u001b[0;34m,\u001b[0m \u001b[0margs\u001b[0m\u001b[0;34m,\u001b[0m \u001b[0mkwargs\u001b[0m\u001b[0;34m)\u001b[0m\u001b[0;34m.\u001b[0m\u001b[0mapply\u001b[0m\u001b[0;34m(\u001b[0m\u001b[0;34m)\u001b[0m\u001b[0;34m\u001b[0m\u001b[0;34m\u001b[0m\u001b[0m\n\u001b[0m\u001b[1;32m   4358\u001b[0m \u001b[0;34m\u001b[0m\u001b[0m\n\u001b[1;32m   4359\u001b[0m     def _reduce(\n",
            "\u001b[0;32m/usr/local/lib/python3.7/dist-packages/pandas/core/apply.py\u001b[0m in \u001b[0;36mapply\u001b[0;34m(self)\u001b[0m\n\u001b[1;32m   1041\u001b[0m             \u001b[0;32mreturn\u001b[0m \u001b[0mself\u001b[0m\u001b[0;34m.\u001b[0m\u001b[0mapply_str\u001b[0m\u001b[0;34m(\u001b[0m\u001b[0;34m)\u001b[0m\u001b[0;34m\u001b[0m\u001b[0;34m\u001b[0m\u001b[0m\n\u001b[1;32m   1042\u001b[0m \u001b[0;34m\u001b[0m\u001b[0m\n\u001b[0;32m-> 1043\u001b[0;31m         \u001b[0;32mreturn\u001b[0m \u001b[0mself\u001b[0m\u001b[0;34m.\u001b[0m\u001b[0mapply_standard\u001b[0m\u001b[0;34m(\u001b[0m\u001b[0;34m)\u001b[0m\u001b[0;34m\u001b[0m\u001b[0;34m\u001b[0m\u001b[0m\n\u001b[0m\u001b[1;32m   1044\u001b[0m \u001b[0;34m\u001b[0m\u001b[0m\n\u001b[1;32m   1045\u001b[0m     \u001b[0;32mdef\u001b[0m \u001b[0magg\u001b[0m\u001b[0;34m(\u001b[0m\u001b[0mself\u001b[0m\u001b[0;34m)\u001b[0m\u001b[0;34m:\u001b[0m\u001b[0;34m\u001b[0m\u001b[0;34m\u001b[0m\u001b[0m\n",
            "\u001b[0;32m/usr/local/lib/python3.7/dist-packages/pandas/core/apply.py\u001b[0m in \u001b[0;36mapply_standard\u001b[0;34m(self)\u001b[0m\n\u001b[1;32m   1099\u001b[0m                     \u001b[0mvalues\u001b[0m\u001b[0;34m,\u001b[0m\u001b[0;34m\u001b[0m\u001b[0;34m\u001b[0m\u001b[0m\n\u001b[1;32m   1100\u001b[0m                     \u001b[0mf\u001b[0m\u001b[0;34m,\u001b[0m  \u001b[0;31m# type: ignore[arg-type]\u001b[0m\u001b[0;34m\u001b[0m\u001b[0;34m\u001b[0m\u001b[0m\n\u001b[0;32m-> 1101\u001b[0;31m                     \u001b[0mconvert\u001b[0m\u001b[0;34m=\u001b[0m\u001b[0mself\u001b[0m\u001b[0;34m.\u001b[0m\u001b[0mconvert_dtype\u001b[0m\u001b[0;34m,\u001b[0m\u001b[0;34m\u001b[0m\u001b[0;34m\u001b[0m\u001b[0m\n\u001b[0m\u001b[1;32m   1102\u001b[0m                 )\n\u001b[1;32m   1103\u001b[0m \u001b[0;34m\u001b[0m\u001b[0m\n",
            "\u001b[0;32m/usr/local/lib/python3.7/dist-packages/pandas/_libs/lib.pyx\u001b[0m in \u001b[0;36mpandas._libs.lib.map_infer\u001b[0;34m()\u001b[0m\n",
            "\u001b[0;32m<ipython-input-58-4c2bbe61e019>\u001b[0m in \u001b[0;36m<lambda>\u001b[0;34m(x)\u001b[0m\n\u001b[1;32m      1\u001b[0m \u001b[0;31m# Creating a lambda expression for datetime parsing\u001b[0m\u001b[0;34m\u001b[0m\u001b[0;34m\u001b[0m\u001b[0;34m\u001b[0m\u001b[0m\n\u001b[0;32m----> 2\u001b[0;31m \u001b[0mdateparse\u001b[0m \u001b[0;34m=\u001b[0m \u001b[0;32mlambda\u001b[0m \u001b[0mx\u001b[0m\u001b[0;34m:\u001b[0m \u001b[0mdatetime\u001b[0m\u001b[0;34m.\u001b[0m\u001b[0mstrptime\u001b[0m\u001b[0;34m(\u001b[0m\u001b[0mx\u001b[0m\u001b[0;34m,\u001b[0m \u001b[0;34m\"%m/%d/%Y %H:%M:%S %p\"\u001b[0m\u001b[0;34m)\u001b[0m\u001b[0;34m\u001b[0m\u001b[0;34m\u001b[0m\u001b[0m\n\u001b[0m",
            "\u001b[0;32m/usr/lib/python3.7/_strptime.py\u001b[0m in \u001b[0;36m_strptime_datetime\u001b[0;34m(cls, data_string, format)\u001b[0m\n\u001b[1;32m    575\u001b[0m     \"\"\"Return a class cls instance based on the input string and the\n\u001b[1;32m    576\u001b[0m     format string.\"\"\"\n\u001b[0;32m--> 577\u001b[0;31m     \u001b[0mtt\u001b[0m\u001b[0;34m,\u001b[0m \u001b[0mfraction\u001b[0m\u001b[0;34m,\u001b[0m \u001b[0mgmtoff_fraction\u001b[0m \u001b[0;34m=\u001b[0m \u001b[0m_strptime\u001b[0m\u001b[0;34m(\u001b[0m\u001b[0mdata_string\u001b[0m\u001b[0;34m,\u001b[0m \u001b[0mformat\u001b[0m\u001b[0;34m)\u001b[0m\u001b[0;34m\u001b[0m\u001b[0;34m\u001b[0m\u001b[0m\n\u001b[0m\u001b[1;32m    578\u001b[0m     \u001b[0mtzname\u001b[0m\u001b[0;34m,\u001b[0m \u001b[0mgmtoff\u001b[0m \u001b[0;34m=\u001b[0m \u001b[0mtt\u001b[0m\u001b[0;34m[\u001b[0m\u001b[0;34m-\u001b[0m\u001b[0;36m2\u001b[0m\u001b[0;34m:\u001b[0m\u001b[0;34m]\u001b[0m\u001b[0;34m\u001b[0m\u001b[0;34m\u001b[0m\u001b[0m\n\u001b[1;32m    579\u001b[0m     \u001b[0margs\u001b[0m \u001b[0;34m=\u001b[0m \u001b[0mtt\u001b[0m\u001b[0;34m[\u001b[0m\u001b[0;34m:\u001b[0m\u001b[0;36m6\u001b[0m\u001b[0;34m]\u001b[0m \u001b[0;34m+\u001b[0m \u001b[0;34m(\u001b[0m\u001b[0mfraction\u001b[0m\u001b[0;34m,\u001b[0m\u001b[0;34m)\u001b[0m\u001b[0;34m\u001b[0m\u001b[0;34m\u001b[0m\u001b[0m\n",
            "\u001b[0;32m/usr/lib/python3.7/_strptime.py\u001b[0m in \u001b[0;36m_strptime\u001b[0;34m(data_string, format)\u001b[0m\n\u001b[1;32m    357\u001b[0m     \u001b[0;32mif\u001b[0m \u001b[0;32mnot\u001b[0m \u001b[0mfound\u001b[0m\u001b[0;34m:\u001b[0m\u001b[0;34m\u001b[0m\u001b[0;34m\u001b[0m\u001b[0m\n\u001b[1;32m    358\u001b[0m         raise ValueError(\"time data %r does not match format %r\" %\n\u001b[0;32m--> 359\u001b[0;31m                          (data_string, format))\n\u001b[0m\u001b[1;32m    360\u001b[0m     \u001b[0;32mif\u001b[0m \u001b[0mlen\u001b[0m\u001b[0;34m(\u001b[0m\u001b[0mdata_string\u001b[0m\u001b[0;34m)\u001b[0m \u001b[0;34m!=\u001b[0m \u001b[0mfound\u001b[0m\u001b[0;34m.\u001b[0m\u001b[0mend\u001b[0m\u001b[0;34m(\u001b[0m\u001b[0;34m)\u001b[0m\u001b[0;34m:\u001b[0m\u001b[0;34m\u001b[0m\u001b[0;34m\u001b[0m\u001b[0m\n\u001b[1;32m    361\u001b[0m         raise ValueError(\"unconverted data remains: %s\" %\n",
            "\u001b[0;31mValueError\u001b[0m: time data 'TOTAL' does not match format '%m/%d/%Y %H:%M:%S %p'"
          ]
        }
      ],
      "source": [
        "# Applying the validation to all values in column\n",
        "homicides_df[\"FECHA\"].apply(dateparse)\n",
        "\n",
        "# IT IS EXPECTED TO HAVE AN ERROR INTENTIONALLY"
      ]
    },
    {
      "cell_type": "code",
      "execution_count": null,
      "metadata": {
        "id": "qJ7q9YjMwMgD"
      },
      "outputs": [],
      "source": [
        "# Creating a function for validating which value is causing the previous error\n",
        "def error_in_format(x):\n",
        "    try:\n",
        "        datetime.strptime(x, \"%m/%d/%Y %H:%M:%S %p\")\n",
        "        return False\n",
        "    except:\n",
        "        return True"
      ]
    },
    {
      "cell_type": "code",
      "execution_count": null,
      "metadata": {
        "colab": {
          "base_uri": "https://localhost:8080/",
          "height": 159
        },
        "id": "RWQrXWUzwMgE",
        "outputId": "81932512-a7fb-4c36-9637-ef7694223343"
      },
      "outputs": [
        {
          "output_type": "execute_result",
          "data": {
            "text/plain": [
              "       FECHA DEPARTAMENTO MUNICIPIO  DIA HORA BARRIO ZONA CLASE DE SITIO  \\\n",
              "12399  TOTAL          NaN       NaN  NaN  NaN    NaN  NaN            NaN   \n",
              "\n",
              "      ARMA O MEDIO MOVIL VICTIMA MOVIL AGRESOR  EDAD GENERO ESTADO CIVIL  \\\n",
              "12399          NaN           NaN           NaN   NaN    NaN          NaN   \n",
              "\n",
              "      CLASE EMPLEADO PROFESION ESCOLARIDAD PAIS NACE  CODIGO DANE  \\\n",
              "12399            NaN       NaN         NaN       NaN          NaN   \n",
              "\n",
              "       AÑO DE NACIMIENTO CÉDULA CORREO  \n",
              "12399                NaN    NaN    NaN  "
            ],
            "text/html": [
              "\n",
              "  <div id=\"df-956423bf-1dc0-4cc4-be2c-e793ac86808a\">\n",
              "    <div class=\"colab-df-container\">\n",
              "      <div>\n",
              "<style scoped>\n",
              "    .dataframe tbody tr th:only-of-type {\n",
              "        vertical-align: middle;\n",
              "    }\n",
              "\n",
              "    .dataframe tbody tr th {\n",
              "        vertical-align: top;\n",
              "    }\n",
              "\n",
              "    .dataframe thead th {\n",
              "        text-align: right;\n",
              "    }\n",
              "</style>\n",
              "<table border=\"1\" class=\"dataframe\">\n",
              "  <thead>\n",
              "    <tr style=\"text-align: right;\">\n",
              "      <th></th>\n",
              "      <th>FECHA</th>\n",
              "      <th>DEPARTAMENTO</th>\n",
              "      <th>MUNICIPIO</th>\n",
              "      <th>DIA</th>\n",
              "      <th>HORA</th>\n",
              "      <th>BARRIO</th>\n",
              "      <th>ZONA</th>\n",
              "      <th>CLASE DE SITIO</th>\n",
              "      <th>ARMA O MEDIO</th>\n",
              "      <th>MOVIL VICTIMA</th>\n",
              "      <th>MOVIL AGRESOR</th>\n",
              "      <th>EDAD</th>\n",
              "      <th>GENERO</th>\n",
              "      <th>ESTADO CIVIL</th>\n",
              "      <th>CLASE EMPLEADO</th>\n",
              "      <th>PROFESION</th>\n",
              "      <th>ESCOLARIDAD</th>\n",
              "      <th>PAIS NACE</th>\n",
              "      <th>CODIGO DANE</th>\n",
              "      <th>AÑO DE NACIMIENTO</th>\n",
              "      <th>CÉDULA</th>\n",
              "      <th>CORREO</th>\n",
              "    </tr>\n",
              "  </thead>\n",
              "  <tbody>\n",
              "    <tr>\n",
              "      <th>12399</th>\n",
              "      <td>TOTAL</td>\n",
              "      <td>NaN</td>\n",
              "      <td>NaN</td>\n",
              "      <td>NaN</td>\n",
              "      <td>NaN</td>\n",
              "      <td>NaN</td>\n",
              "      <td>NaN</td>\n",
              "      <td>NaN</td>\n",
              "      <td>NaN</td>\n",
              "      <td>NaN</td>\n",
              "      <td>NaN</td>\n",
              "      <td>NaN</td>\n",
              "      <td>NaN</td>\n",
              "      <td>NaN</td>\n",
              "      <td>NaN</td>\n",
              "      <td>NaN</td>\n",
              "      <td>NaN</td>\n",
              "      <td>NaN</td>\n",
              "      <td>NaN</td>\n",
              "      <td>NaN</td>\n",
              "      <td>NaN</td>\n",
              "      <td>NaN</td>\n",
              "    </tr>\n",
              "  </tbody>\n",
              "</table>\n",
              "</div>\n",
              "      <button class=\"colab-df-convert\" onclick=\"convertToInteractive('df-956423bf-1dc0-4cc4-be2c-e793ac86808a')\"\n",
              "              title=\"Convert this dataframe to an interactive table.\"\n",
              "              style=\"display:none;\">\n",
              "        \n",
              "  <svg xmlns=\"http://www.w3.org/2000/svg\" height=\"24px\"viewBox=\"0 0 24 24\"\n",
              "       width=\"24px\">\n",
              "    <path d=\"M0 0h24v24H0V0z\" fill=\"none\"/>\n",
              "    <path d=\"M18.56 5.44l.94 2.06.94-2.06 2.06-.94-2.06-.94-.94-2.06-.94 2.06-2.06.94zm-11 1L8.5 8.5l.94-2.06 2.06-.94-2.06-.94L8.5 2.5l-.94 2.06-2.06.94zm10 10l.94 2.06.94-2.06 2.06-.94-2.06-.94-.94-2.06-.94 2.06-2.06.94z\"/><path d=\"M17.41 7.96l-1.37-1.37c-.4-.4-.92-.59-1.43-.59-.52 0-1.04.2-1.43.59L10.3 9.45l-7.72 7.72c-.78.78-.78 2.05 0 2.83L4 21.41c.39.39.9.59 1.41.59.51 0 1.02-.2 1.41-.59l7.78-7.78 2.81-2.81c.8-.78.8-2.07 0-2.86zM5.41 20L4 18.59l7.72-7.72 1.47 1.35L5.41 20z\"/>\n",
              "  </svg>\n",
              "      </button>\n",
              "      \n",
              "  <style>\n",
              "    .colab-df-container {\n",
              "      display:flex;\n",
              "      flex-wrap:wrap;\n",
              "      gap: 12px;\n",
              "    }\n",
              "\n",
              "    .colab-df-convert {\n",
              "      background-color: #E8F0FE;\n",
              "      border: none;\n",
              "      border-radius: 50%;\n",
              "      cursor: pointer;\n",
              "      display: none;\n",
              "      fill: #1967D2;\n",
              "      height: 32px;\n",
              "      padding: 0 0 0 0;\n",
              "      width: 32px;\n",
              "    }\n",
              "\n",
              "    .colab-df-convert:hover {\n",
              "      background-color: #E2EBFA;\n",
              "      box-shadow: 0px 1px 2px rgba(60, 64, 67, 0.3), 0px 1px 3px 1px rgba(60, 64, 67, 0.15);\n",
              "      fill: #174EA6;\n",
              "    }\n",
              "\n",
              "    [theme=dark] .colab-df-convert {\n",
              "      background-color: #3B4455;\n",
              "      fill: #D2E3FC;\n",
              "    }\n",
              "\n",
              "    [theme=dark] .colab-df-convert:hover {\n",
              "      background-color: #434B5C;\n",
              "      box-shadow: 0px 1px 3px 1px rgba(0, 0, 0, 0.15);\n",
              "      filter: drop-shadow(0px 1px 2px rgba(0, 0, 0, 0.3));\n",
              "      fill: #FFFFFF;\n",
              "    }\n",
              "  </style>\n",
              "\n",
              "      <script>\n",
              "        const buttonEl =\n",
              "          document.querySelector('#df-956423bf-1dc0-4cc4-be2c-e793ac86808a button.colab-df-convert');\n",
              "        buttonEl.style.display =\n",
              "          google.colab.kernel.accessAllowed ? 'block' : 'none';\n",
              "\n",
              "        async function convertToInteractive(key) {\n",
              "          const element = document.querySelector('#df-956423bf-1dc0-4cc4-be2c-e793ac86808a');\n",
              "          const dataTable =\n",
              "            await google.colab.kernel.invokeFunction('convertToInteractive',\n",
              "                                                     [key], {});\n",
              "          if (!dataTable) return;\n",
              "\n",
              "          const docLinkHtml = 'Like what you see? Visit the ' +\n",
              "            '<a target=\"_blank\" href=https://colab.research.google.com/notebooks/data_table.ipynb>data table notebook</a>'\n",
              "            + ' to learn more about interactive tables.';\n",
              "          element.innerHTML = '';\n",
              "          dataTable['output_type'] = 'display_data';\n",
              "          await google.colab.output.renderOutput(dataTable, element);\n",
              "          const docLink = document.createElement('div');\n",
              "          docLink.innerHTML = docLinkHtml;\n",
              "          element.appendChild(docLink);\n",
              "        }\n",
              "      </script>\n",
              "    </div>\n",
              "  </div>\n",
              "  "
            ]
          },
          "metadata": {},
          "execution_count": 61
        }
      ],
      "source": [
        "# Using the function for validation\n",
        "homicides_df.loc[homicides_df[\"FECHA\"].apply(error_in_format)]\n",
        "\n",
        "# THE LAST ERROR IS CAUSING THE ERROR"
      ]
    },
    {
      "cell_type": "code",
      "execution_count": null,
      "metadata": {
        "id": "-kTf4kSYwMgE"
      },
      "outputs": [],
      "source": [
        "# Deleting an error by its index\n",
        "homicides_df = homicides_df.drop([12399])"
      ]
    },
    {
      "cell_type": "code",
      "execution_count": null,
      "metadata": {
        "id": "RNl8N7kfwMgE"
      },
      "outputs": [],
      "source": [
        "# Trying to parse the datetime string again\n",
        "homicides_df[\"FECHA\"] = homicides_df[\"FECHA\"].apply(dateparse)"
      ]
    },
    {
      "cell_type": "code",
      "execution_count": null,
      "metadata": {
        "colab": {
          "base_uri": "https://localhost:8080/"
        },
        "id": "iXSvqPKWwMgE",
        "outputId": "eb7fa69b-6e92-44e9-bb2f-ac66b6a5b248"
      },
      "outputs": [
        {
          "output_type": "execute_result",
          "data": {
            "text/plain": [
              "12    12399\n",
              "Name: FECHA, dtype: int64"
            ]
          },
          "metadata": {},
          "execution_count": 64
        }
      ],
      "source": [
        "# Counting homicides hour\n",
        "homicides_df[\"FECHA\"].dt.hour.value_counts()\n",
        "\n",
        "# All datetime hour parts are the same"
      ]
    },
    {
      "cell_type": "code",
      "execution_count": null,
      "metadata": {
        "id": "DjB0bukHwMgF"
      },
      "outputs": [],
      "source": [
        "# The homicide hour is available in a different column!!!\n",
        "# Merging both columns\n",
        "homicides_df[\"FECHA\"] = homicides_df[\"FECHA\"].astype(str).apply(lambda x: x[:11]) + homicides_df[\"HORA\"]"
      ]
    },
    {
      "cell_type": "code",
      "execution_count": null,
      "metadata": {
        "id": "qry_u7uqwMgF"
      },
      "outputs": [],
      "source": [
        "del homicides_df[\"HORA\"]"
      ]
    },
    {
      "cell_type": "code",
      "execution_count": null,
      "metadata": {
        "colab": {
          "base_uri": "https://localhost:8080/"
        },
        "id": "iYSLs4zPwMgF",
        "outputId": "777e5362-0ef2-41dc-aac3-7df4fa8adcea"
      },
      "outputs": [
        {
          "output_type": "execute_result",
          "data": {
            "text/plain": [
              "0     2015-01-01 6:00\n",
              "1     2015-01-01 9:00\n",
              "2    2015-01-01 19:00\n",
              "3    2015-01-01 11:20\n",
              "4    2015-01-01 15:00\n",
              "Name: FECHA, dtype: object"
            ]
          },
          "metadata": {},
          "execution_count": 67
        }
      ],
      "source": [
        "homicides_df[\"FECHA\"].head()"
      ]
    },
    {
      "cell_type": "code",
      "execution_count": null,
      "metadata": {
        "id": "53qr9UsgwMgF"
      },
      "outputs": [],
      "source": [
        "# Making a new expression for datetime parsing\n",
        "dateparse = lambda x: datetime.strptime(x, \"%Y-%m-%d %H:%M\")"
      ]
    },
    {
      "cell_type": "code",
      "execution_count": null,
      "metadata": {
        "id": "91ju4j6DwMgG"
      },
      "outputs": [],
      "source": [
        "# Applying the expression\n",
        "homicides_df[\"FECHA\"] = homicides_df[\"FECHA\"].apply(dateparse)"
      ]
    },
    {
      "cell_type": "code",
      "execution_count": null,
      "metadata": {
        "colab": {
          "base_uri": "https://localhost:8080/"
        },
        "id": "HZhoLSHWwMgG",
        "outputId": "93ed3f8c-5d66-4656-f3ea-99595924c065"
      },
      "outputs": [
        {
          "output_type": "execute_result",
          "data": {
            "text/plain": [
              "FECHA                datetime64[ns]\n",
              "DEPARTAMENTO                 object\n",
              "MUNICIPIO                    object\n",
              "DIA                          object\n",
              "BARRIO                       object\n",
              "ZONA                         object\n",
              "CLASE DE SITIO               object\n",
              "ARMA O MEDIO                 object\n",
              "MOVIL VICTIMA                object\n",
              "MOVIL AGRESOR                object\n",
              "EDAD                        float64\n",
              "GENERO                       object\n",
              "ESTADO CIVIL                 object\n",
              "CLASE EMPLEADO               object\n",
              "PROFESION                    object\n",
              "ESCOLARIDAD                  object\n",
              "PAIS NACE                    object\n",
              "CODIGO DANE                 float64\n",
              "AÑO DE NACIMIENTO           float64\n",
              "CÉDULA                       object\n",
              "CORREO                       object\n",
              "dtype: object"
            ]
          },
          "metadata": {},
          "execution_count": 70
        }
      ],
      "source": [
        "homicides_df.dtypes"
      ]
    },
    {
      "cell_type": "code",
      "execution_count": null,
      "metadata": {
        "colab": {
          "base_uri": "https://localhost:8080/",
          "height": 870
        },
        "id": "wZ_JGN3VwMgG",
        "outputId": "591f6a70-b4b6-4317-c248-2430a6aef60a"
      },
      "outputs": [
        {
          "output_type": "execute_result",
          "data": {
            "text/plain": [
              "                    FECHA DEPARTAMENTO      MUNICIPIO     DIA  \\\n",
              "0     2015-01-01 06:00:00    ANTIOQUIA          AMAGÁ  Jueves   \n",
              "1     2015-01-01 09:00:00    ANTIOQUIA        BARBOSA  Jueves   \n",
              "2     2015-01-01 19:00:00    ANTIOQUIA       EL BAGRE  Jueves   \n",
              "3     2015-01-01 11:20:00    ANTIOQUIA         JARDÍN  Jueves   \n",
              "4     2015-01-01 15:00:00    ANTIOQUIA  MEDELLÍN (CT)   Juees   \n",
              "...                   ...          ...            ...     ...   \n",
              "12394 2015-12-31 15:42:00        VALLE     EL CERRITO  Jueves   \n",
              "12395 2015-12-31 19:04:00        VALLE      LA CUMBRE  Jueves   \n",
              "12396 2015-12-31 22:35:00        VALLE        PALMIRA  Jueves   \n",
              "12397 2015-12-31 14:30:00        VALLE         ZARZAL  Jueves   \n",
              "12398 2015-12-31 22:55:00      VICHADA       CUMARIBO  Jueves   \n",
              "\n",
              "                         BARRIO    ZONA                      CLASE DE SITIO  \\\n",
              "0                     EL VOLCAN   RURAL                              TIENDA   \n",
              "1                VDA. MATASANOS   RURAL                       VIAS PUBLICAS   \n",
              "2                 PUERTO CLAVER   RURAL                  FINCAS Y SIMILARES   \n",
              "3                    CRISTIANIA   RURAL                  FINCAS Y SIMILARES   \n",
              "4      PICACHITO CNO REPORTADO6  URBANA  FRENTE A RESIDENCIAS - VIA PUBLICA   \n",
              "...                         ...     ...                                 ...   \n",
              "12394              LA ESPERANZA  URBANA                       VIAS PUBLICAS   \n",
              "12395           CGTO BITACO E27   RURAL                       VIAS PUBLICAS   \n",
              "12396                    LORETO  URBANA                       VIAS PUBLICAS   \n",
              "12397         URB. EL ZARZALITO  URBANA                       VIAS PUBLICAS   \n",
              "12398                 EL CENTRO  URBANA                          HOSPITALES   \n",
              "\n",
              "        ARMA O MEDIO MOVIL VICTIMA MOVIL AGRESOR  EDAD     GENERO  \\\n",
              "0        ARMA BLANCA         A PIE         A PIE  44.0  MASCULINO   \n",
              "1        ARMA BLANCA         A PIE         A PIE  30.0  MASCULINO   \n",
              "2        ARMA BLANCA         A PIE         A PIE  33.0  MASCULINO   \n",
              "3        ARMA BLANCA         A PIE         A PIE  40.0  MASCULINO   \n",
              "4       CONTUNDENTES         A PIE         A PIE  66.0  MASCULINO   \n",
              "...              ...           ...           ...   ...        ...   \n",
              "12394  ARMA DE FUEGO         A PIE         A PIE  53.0   FEMENINO   \n",
              "12395  ARMA DE FUEGO         A PIE         A PIE  58.0  MASCULINO   \n",
              "12396  ARMA DE FUEGO         A PIE         A PIE  18.0   FEMENINO   \n",
              "12397  ARMA DE FUEGO         A PIE         A PIE  27.0  MASCULINO   \n",
              "12398    ARMA BLANCA         A PIE         A PIE  23.0  MASCULINO   \n",
              "\n",
              "      ESTADO CIVIL       CLASE EMPLEADO     PROFESION ESCOLARIDAD  \\\n",
              "0           CASADO        INDEPENDIENTE  NO REPORTADO    PRIMARIA   \n",
              "1          SOLTERO          DESEMPLEADO  NO REPORTADO  SECUNDARIA   \n",
              "2      UNION LIBRE           AGRICULTOR  NO REPORTADO    PRIMARIA   \n",
              "3           CASADO           AGRICULTOR  NO REPORTADO    PRIMARIA   \n",
              "4      UNION LIBRE          DESEMPLEADO  NO REPORTADO    PRIMARIA   \n",
              "...            ...                  ...           ...         ...   \n",
              "12394       CASADO  EMPLEADO PARTICULAR  NO REPORTADO    PRIMARIA   \n",
              "12395  UNION LIBRE           AGRICULTOR  NO REPORTADO    PRIMARIA   \n",
              "12396      SOLTERO           ESTUDIANTE  NO REPORTADO  SECUNDARIA   \n",
              "12397      SOLTERO  EMPLEADO PARTICULAR  NO REPORTADO  SECUNDARIA   \n",
              "12398      SOLTERO        INDEPENDIENTE  NO REPORTADO  SECUNDARIA   \n",
              "\n",
              "          PAIS NACE  CODIGO DANE  AÑO DE NACIMIENTO  CÉDULA  \\\n",
              "0          COLOMBIA    5030000.0             1978.0  42-908   \n",
              "1      NO REPORTADO    5079000.0             1992.0  15-183   \n",
              "2          COLOMBIA    5250000.0             1989.0  84-786   \n",
              "3          COLOMBIA    5364000.0             1982.0  31-289   \n",
              "4          COLOMBIA    5001000.0             1956.0  66-363   \n",
              "...             ...          ...                ...     ...   \n",
              "12394      COLOMBIA   76248000.0             1969.0  39-658   \n",
              "12395      COLOMBIA   76377000.0             1964.0  39-442   \n",
              "12396      COLOMBIA   76520000.0             2004.0  25-368   \n",
              "12397      COLOMBIA   76895000.0             1995.0  62-735   \n",
              "12398      COLOMBIA   99773000.0             1999.0  47-126   \n",
              "\n",
              "                           CORREO  \n",
              "0      agbnqg2122@unidatos.edu.co  \n",
              "1            rbkeui3584@gmail.com  \n",
              "2      aorkhf9155@unidatos.edu.co  \n",
              "3      dhtemr6623@unidatos.edu.co  \n",
              "4      artatj9268@unidatos.edu.co  \n",
              "...                           ...  \n",
              "12394        nggiso7664@gmail.com  \n",
              "12395  correo4352@colombia.gov.co  \n",
              "12396  fktatq9245@unidatos.edu.co  \n",
              "12397        gafkup6393@gmail.com  \n",
              "12398   correo736@unidatos.edu.co  \n",
              "\n",
              "[12399 rows x 21 columns]"
            ],
            "text/html": [
              "\n",
              "  <div id=\"df-1e5877bb-b85d-4f99-99df-6b7a87ef90fd\">\n",
              "    <div class=\"colab-df-container\">\n",
              "      <div>\n",
              "<style scoped>\n",
              "    .dataframe tbody tr th:only-of-type {\n",
              "        vertical-align: middle;\n",
              "    }\n",
              "\n",
              "    .dataframe tbody tr th {\n",
              "        vertical-align: top;\n",
              "    }\n",
              "\n",
              "    .dataframe thead th {\n",
              "        text-align: right;\n",
              "    }\n",
              "</style>\n",
              "<table border=\"1\" class=\"dataframe\">\n",
              "  <thead>\n",
              "    <tr style=\"text-align: right;\">\n",
              "      <th></th>\n",
              "      <th>FECHA</th>\n",
              "      <th>DEPARTAMENTO</th>\n",
              "      <th>MUNICIPIO</th>\n",
              "      <th>DIA</th>\n",
              "      <th>BARRIO</th>\n",
              "      <th>ZONA</th>\n",
              "      <th>CLASE DE SITIO</th>\n",
              "      <th>ARMA O MEDIO</th>\n",
              "      <th>MOVIL VICTIMA</th>\n",
              "      <th>MOVIL AGRESOR</th>\n",
              "      <th>EDAD</th>\n",
              "      <th>GENERO</th>\n",
              "      <th>ESTADO CIVIL</th>\n",
              "      <th>CLASE EMPLEADO</th>\n",
              "      <th>PROFESION</th>\n",
              "      <th>ESCOLARIDAD</th>\n",
              "      <th>PAIS NACE</th>\n",
              "      <th>CODIGO DANE</th>\n",
              "      <th>AÑO DE NACIMIENTO</th>\n",
              "      <th>CÉDULA</th>\n",
              "      <th>CORREO</th>\n",
              "    </tr>\n",
              "  </thead>\n",
              "  <tbody>\n",
              "    <tr>\n",
              "      <th>0</th>\n",
              "      <td>2015-01-01 06:00:00</td>\n",
              "      <td>ANTIOQUIA</td>\n",
              "      <td>AMAGÁ</td>\n",
              "      <td>Jueves</td>\n",
              "      <td>EL VOLCAN</td>\n",
              "      <td>RURAL</td>\n",
              "      <td>TIENDA</td>\n",
              "      <td>ARMA BLANCA</td>\n",
              "      <td>A PIE</td>\n",
              "      <td>A PIE</td>\n",
              "      <td>44.0</td>\n",
              "      <td>MASCULINO</td>\n",
              "      <td>CASADO</td>\n",
              "      <td>INDEPENDIENTE</td>\n",
              "      <td>NO REPORTADO</td>\n",
              "      <td>PRIMARIA</td>\n",
              "      <td>COLOMBIA</td>\n",
              "      <td>5030000.0</td>\n",
              "      <td>1978.0</td>\n",
              "      <td>42-908</td>\n",
              "      <td>agbnqg2122@unidatos.edu.co</td>\n",
              "    </tr>\n",
              "    <tr>\n",
              "      <th>1</th>\n",
              "      <td>2015-01-01 09:00:00</td>\n",
              "      <td>ANTIOQUIA</td>\n",
              "      <td>BARBOSA</td>\n",
              "      <td>Jueves</td>\n",
              "      <td>VDA. MATASANOS</td>\n",
              "      <td>RURAL</td>\n",
              "      <td>VIAS PUBLICAS</td>\n",
              "      <td>ARMA BLANCA</td>\n",
              "      <td>A PIE</td>\n",
              "      <td>A PIE</td>\n",
              "      <td>30.0</td>\n",
              "      <td>MASCULINO</td>\n",
              "      <td>SOLTERO</td>\n",
              "      <td>DESEMPLEADO</td>\n",
              "      <td>NO REPORTADO</td>\n",
              "      <td>SECUNDARIA</td>\n",
              "      <td>NO REPORTADO</td>\n",
              "      <td>5079000.0</td>\n",
              "      <td>1992.0</td>\n",
              "      <td>15-183</td>\n",
              "      <td>rbkeui3584@gmail.com</td>\n",
              "    </tr>\n",
              "    <tr>\n",
              "      <th>2</th>\n",
              "      <td>2015-01-01 19:00:00</td>\n",
              "      <td>ANTIOQUIA</td>\n",
              "      <td>EL BAGRE</td>\n",
              "      <td>Jueves</td>\n",
              "      <td>PUERTO CLAVER</td>\n",
              "      <td>RURAL</td>\n",
              "      <td>FINCAS Y SIMILARES</td>\n",
              "      <td>ARMA BLANCA</td>\n",
              "      <td>A PIE</td>\n",
              "      <td>A PIE</td>\n",
              "      <td>33.0</td>\n",
              "      <td>MASCULINO</td>\n",
              "      <td>UNION LIBRE</td>\n",
              "      <td>AGRICULTOR</td>\n",
              "      <td>NO REPORTADO</td>\n",
              "      <td>PRIMARIA</td>\n",
              "      <td>COLOMBIA</td>\n",
              "      <td>5250000.0</td>\n",
              "      <td>1989.0</td>\n",
              "      <td>84-786</td>\n",
              "      <td>aorkhf9155@unidatos.edu.co</td>\n",
              "    </tr>\n",
              "    <tr>\n",
              "      <th>3</th>\n",
              "      <td>2015-01-01 11:20:00</td>\n",
              "      <td>ANTIOQUIA</td>\n",
              "      <td>JARDÍN</td>\n",
              "      <td>Jueves</td>\n",
              "      <td>CRISTIANIA</td>\n",
              "      <td>RURAL</td>\n",
              "      <td>FINCAS Y SIMILARES</td>\n",
              "      <td>ARMA BLANCA</td>\n",
              "      <td>A PIE</td>\n",
              "      <td>A PIE</td>\n",
              "      <td>40.0</td>\n",
              "      <td>MASCULINO</td>\n",
              "      <td>CASADO</td>\n",
              "      <td>AGRICULTOR</td>\n",
              "      <td>NO REPORTADO</td>\n",
              "      <td>PRIMARIA</td>\n",
              "      <td>COLOMBIA</td>\n",
              "      <td>5364000.0</td>\n",
              "      <td>1982.0</td>\n",
              "      <td>31-289</td>\n",
              "      <td>dhtemr6623@unidatos.edu.co</td>\n",
              "    </tr>\n",
              "    <tr>\n",
              "      <th>4</th>\n",
              "      <td>2015-01-01 15:00:00</td>\n",
              "      <td>ANTIOQUIA</td>\n",
              "      <td>MEDELLÍN (CT)</td>\n",
              "      <td>Juees</td>\n",
              "      <td>PICACHITO CNO REPORTADO6</td>\n",
              "      <td>URBANA</td>\n",
              "      <td>FRENTE A RESIDENCIAS - VIA PUBLICA</td>\n",
              "      <td>CONTUNDENTES</td>\n",
              "      <td>A PIE</td>\n",
              "      <td>A PIE</td>\n",
              "      <td>66.0</td>\n",
              "      <td>MASCULINO</td>\n",
              "      <td>UNION LIBRE</td>\n",
              "      <td>DESEMPLEADO</td>\n",
              "      <td>NO REPORTADO</td>\n",
              "      <td>PRIMARIA</td>\n",
              "      <td>COLOMBIA</td>\n",
              "      <td>5001000.0</td>\n",
              "      <td>1956.0</td>\n",
              "      <td>66-363</td>\n",
              "      <td>artatj9268@unidatos.edu.co</td>\n",
              "    </tr>\n",
              "    <tr>\n",
              "      <th>...</th>\n",
              "      <td>...</td>\n",
              "      <td>...</td>\n",
              "      <td>...</td>\n",
              "      <td>...</td>\n",
              "      <td>...</td>\n",
              "      <td>...</td>\n",
              "      <td>...</td>\n",
              "      <td>...</td>\n",
              "      <td>...</td>\n",
              "      <td>...</td>\n",
              "      <td>...</td>\n",
              "      <td>...</td>\n",
              "      <td>...</td>\n",
              "      <td>...</td>\n",
              "      <td>...</td>\n",
              "      <td>...</td>\n",
              "      <td>...</td>\n",
              "      <td>...</td>\n",
              "      <td>...</td>\n",
              "      <td>...</td>\n",
              "      <td>...</td>\n",
              "    </tr>\n",
              "    <tr>\n",
              "      <th>12394</th>\n",
              "      <td>2015-12-31 15:42:00</td>\n",
              "      <td>VALLE</td>\n",
              "      <td>EL CERRITO</td>\n",
              "      <td>Jueves</td>\n",
              "      <td>LA ESPERANZA</td>\n",
              "      <td>URBANA</td>\n",
              "      <td>VIAS PUBLICAS</td>\n",
              "      <td>ARMA DE FUEGO</td>\n",
              "      <td>A PIE</td>\n",
              "      <td>A PIE</td>\n",
              "      <td>53.0</td>\n",
              "      <td>FEMENINO</td>\n",
              "      <td>CASADO</td>\n",
              "      <td>EMPLEADO PARTICULAR</td>\n",
              "      <td>NO REPORTADO</td>\n",
              "      <td>PRIMARIA</td>\n",
              "      <td>COLOMBIA</td>\n",
              "      <td>76248000.0</td>\n",
              "      <td>1969.0</td>\n",
              "      <td>39-658</td>\n",
              "      <td>nggiso7664@gmail.com</td>\n",
              "    </tr>\n",
              "    <tr>\n",
              "      <th>12395</th>\n",
              "      <td>2015-12-31 19:04:00</td>\n",
              "      <td>VALLE</td>\n",
              "      <td>LA CUMBRE</td>\n",
              "      <td>Jueves</td>\n",
              "      <td>CGTO BITACO E27</td>\n",
              "      <td>RURAL</td>\n",
              "      <td>VIAS PUBLICAS</td>\n",
              "      <td>ARMA DE FUEGO</td>\n",
              "      <td>A PIE</td>\n",
              "      <td>A PIE</td>\n",
              "      <td>58.0</td>\n",
              "      <td>MASCULINO</td>\n",
              "      <td>UNION LIBRE</td>\n",
              "      <td>AGRICULTOR</td>\n",
              "      <td>NO REPORTADO</td>\n",
              "      <td>PRIMARIA</td>\n",
              "      <td>COLOMBIA</td>\n",
              "      <td>76377000.0</td>\n",
              "      <td>1964.0</td>\n",
              "      <td>39-442</td>\n",
              "      <td>correo4352@colombia.gov.co</td>\n",
              "    </tr>\n",
              "    <tr>\n",
              "      <th>12396</th>\n",
              "      <td>2015-12-31 22:35:00</td>\n",
              "      <td>VALLE</td>\n",
              "      <td>PALMIRA</td>\n",
              "      <td>Jueves</td>\n",
              "      <td>LORETO</td>\n",
              "      <td>URBANA</td>\n",
              "      <td>VIAS PUBLICAS</td>\n",
              "      <td>ARMA DE FUEGO</td>\n",
              "      <td>A PIE</td>\n",
              "      <td>A PIE</td>\n",
              "      <td>18.0</td>\n",
              "      <td>FEMENINO</td>\n",
              "      <td>SOLTERO</td>\n",
              "      <td>ESTUDIANTE</td>\n",
              "      <td>NO REPORTADO</td>\n",
              "      <td>SECUNDARIA</td>\n",
              "      <td>COLOMBIA</td>\n",
              "      <td>76520000.0</td>\n",
              "      <td>2004.0</td>\n",
              "      <td>25-368</td>\n",
              "      <td>fktatq9245@unidatos.edu.co</td>\n",
              "    </tr>\n",
              "    <tr>\n",
              "      <th>12397</th>\n",
              "      <td>2015-12-31 14:30:00</td>\n",
              "      <td>VALLE</td>\n",
              "      <td>ZARZAL</td>\n",
              "      <td>Jueves</td>\n",
              "      <td>URB. EL ZARZALITO</td>\n",
              "      <td>URBANA</td>\n",
              "      <td>VIAS PUBLICAS</td>\n",
              "      <td>ARMA DE FUEGO</td>\n",
              "      <td>A PIE</td>\n",
              "      <td>A PIE</td>\n",
              "      <td>27.0</td>\n",
              "      <td>MASCULINO</td>\n",
              "      <td>SOLTERO</td>\n",
              "      <td>EMPLEADO PARTICULAR</td>\n",
              "      <td>NO REPORTADO</td>\n",
              "      <td>SECUNDARIA</td>\n",
              "      <td>COLOMBIA</td>\n",
              "      <td>76895000.0</td>\n",
              "      <td>1995.0</td>\n",
              "      <td>62-735</td>\n",
              "      <td>gafkup6393@gmail.com</td>\n",
              "    </tr>\n",
              "    <tr>\n",
              "      <th>12398</th>\n",
              "      <td>2015-12-31 22:55:00</td>\n",
              "      <td>VICHADA</td>\n",
              "      <td>CUMARIBO</td>\n",
              "      <td>Jueves</td>\n",
              "      <td>EL CENTRO</td>\n",
              "      <td>URBANA</td>\n",
              "      <td>HOSPITALES</td>\n",
              "      <td>ARMA BLANCA</td>\n",
              "      <td>A PIE</td>\n",
              "      <td>A PIE</td>\n",
              "      <td>23.0</td>\n",
              "      <td>MASCULINO</td>\n",
              "      <td>SOLTERO</td>\n",
              "      <td>INDEPENDIENTE</td>\n",
              "      <td>NO REPORTADO</td>\n",
              "      <td>SECUNDARIA</td>\n",
              "      <td>COLOMBIA</td>\n",
              "      <td>99773000.0</td>\n",
              "      <td>1999.0</td>\n",
              "      <td>47-126</td>\n",
              "      <td>correo736@unidatos.edu.co</td>\n",
              "    </tr>\n",
              "  </tbody>\n",
              "</table>\n",
              "<p>12399 rows × 21 columns</p>\n",
              "</div>\n",
              "      <button class=\"colab-df-convert\" onclick=\"convertToInteractive('df-1e5877bb-b85d-4f99-99df-6b7a87ef90fd')\"\n",
              "              title=\"Convert this dataframe to an interactive table.\"\n",
              "              style=\"display:none;\">\n",
              "        \n",
              "  <svg xmlns=\"http://www.w3.org/2000/svg\" height=\"24px\"viewBox=\"0 0 24 24\"\n",
              "       width=\"24px\">\n",
              "    <path d=\"M0 0h24v24H0V0z\" fill=\"none\"/>\n",
              "    <path d=\"M18.56 5.44l.94 2.06.94-2.06 2.06-.94-2.06-.94-.94-2.06-.94 2.06-2.06.94zm-11 1L8.5 8.5l.94-2.06 2.06-.94-2.06-.94L8.5 2.5l-.94 2.06-2.06.94zm10 10l.94 2.06.94-2.06 2.06-.94-2.06-.94-.94-2.06-.94 2.06-2.06.94z\"/><path d=\"M17.41 7.96l-1.37-1.37c-.4-.4-.92-.59-1.43-.59-.52 0-1.04.2-1.43.59L10.3 9.45l-7.72 7.72c-.78.78-.78 2.05 0 2.83L4 21.41c.39.39.9.59 1.41.59.51 0 1.02-.2 1.41-.59l7.78-7.78 2.81-2.81c.8-.78.8-2.07 0-2.86zM5.41 20L4 18.59l7.72-7.72 1.47 1.35L5.41 20z\"/>\n",
              "  </svg>\n",
              "      </button>\n",
              "      \n",
              "  <style>\n",
              "    .colab-df-container {\n",
              "      display:flex;\n",
              "      flex-wrap:wrap;\n",
              "      gap: 12px;\n",
              "    }\n",
              "\n",
              "    .colab-df-convert {\n",
              "      background-color: #E8F0FE;\n",
              "      border: none;\n",
              "      border-radius: 50%;\n",
              "      cursor: pointer;\n",
              "      display: none;\n",
              "      fill: #1967D2;\n",
              "      height: 32px;\n",
              "      padding: 0 0 0 0;\n",
              "      width: 32px;\n",
              "    }\n",
              "\n",
              "    .colab-df-convert:hover {\n",
              "      background-color: #E2EBFA;\n",
              "      box-shadow: 0px 1px 2px rgba(60, 64, 67, 0.3), 0px 1px 3px 1px rgba(60, 64, 67, 0.15);\n",
              "      fill: #174EA6;\n",
              "    }\n",
              "\n",
              "    [theme=dark] .colab-df-convert {\n",
              "      background-color: #3B4455;\n",
              "      fill: #D2E3FC;\n",
              "    }\n",
              "\n",
              "    [theme=dark] .colab-df-convert:hover {\n",
              "      background-color: #434B5C;\n",
              "      box-shadow: 0px 1px 3px 1px rgba(0, 0, 0, 0.15);\n",
              "      filter: drop-shadow(0px 1px 2px rgba(0, 0, 0, 0.3));\n",
              "      fill: #FFFFFF;\n",
              "    }\n",
              "  </style>\n",
              "\n",
              "      <script>\n",
              "        const buttonEl =\n",
              "          document.querySelector('#df-1e5877bb-b85d-4f99-99df-6b7a87ef90fd button.colab-df-convert');\n",
              "        buttonEl.style.display =\n",
              "          google.colab.kernel.accessAllowed ? 'block' : 'none';\n",
              "\n",
              "        async function convertToInteractive(key) {\n",
              "          const element = document.querySelector('#df-1e5877bb-b85d-4f99-99df-6b7a87ef90fd');\n",
              "          const dataTable =\n",
              "            await google.colab.kernel.invokeFunction('convertToInteractive',\n",
              "                                                     [key], {});\n",
              "          if (!dataTable) return;\n",
              "\n",
              "          const docLinkHtml = 'Like what you see? Visit the ' +\n",
              "            '<a target=\"_blank\" href=https://colab.research.google.com/notebooks/data_table.ipynb>data table notebook</a>'\n",
              "            + ' to learn more about interactive tables.';\n",
              "          element.innerHTML = '';\n",
              "          dataTable['output_type'] = 'display_data';\n",
              "          await google.colab.output.renderOutput(dataTable, element);\n",
              "          const docLink = document.createElement('div');\n",
              "          docLink.innerHTML = docLinkHtml;\n",
              "          element.appendChild(docLink);\n",
              "        }\n",
              "      </script>\n",
              "    </div>\n",
              "  </div>\n",
              "  "
            ]
          },
          "metadata": {},
          "execution_count": 71
        }
      ],
      "source": [
        "homicides_df"
      ]
    },
    {
      "cell_type": "code",
      "execution_count": null,
      "metadata": {
        "id": "3QReVBLxwMgG"
      },
      "outputs": [],
      "source": [
        "\n",
        "# Creating a dictionary representing the valid departments for Colombia\n",
        "departments_list = ['ANTIOQUIA', 'ATLÁNTICO', 'BOLÍVAR', 'BOYACÁ', 'CALDAS', 'CAQUETÁ',\n",
        "       'CASANARE', 'CAUCA', 'CESAR', 'CHOCÓ', 'CÓRDOBA', 'META',\n",
        "       'CUNDINAMARCA', 'HUILA', 'MAGDALENA', 'NARIÑO', 'PUTUMAYO',\n",
        "       'RISARALDA', 'SANTANDER', 'SUCRE', 'TOLIMA', 'VALLE',\n",
        "       'NORTE DE SANTANDER', 'GUAJIRA', 'QUINDÍO', 'SAN ANDRÉS Y PROVIDENCIA', 'ARAUCA',\n",
        "       'GUAINÍA', 'VICHADA', 'VAUPÉS', 'GUAVIARE', 'AMAZONAS']"
      ]
    },
    {
      "cell_type": "code",
      "execution_count": null,
      "metadata": {
        "colab": {
          "base_uri": "https://localhost:8080/"
        },
        "id": "jgi41qfgwMgH",
        "outputId": "6cd5df8c-24b6-4967-f997-66241bc43923"
      },
      "outputs": [
        {
          "output_type": "execute_result",
          "data": {
            "text/plain": [
              "array(['SAN ANDRÉS', 'N. DE SANTANDER'], dtype=object)"
            ]
          },
          "metadata": {},
          "execution_count": 73
        }
      ],
      "source": [
        "# Finding values not matching with the dictionary\n",
        "homicides_df.loc[~homicides_df[\"DEPARTAMENTO\"].isin(departments_list), \"DEPARTAMENTO\"].unique()"
      ]
    },
    {
      "cell_type": "markdown",
      "metadata": {
        "id": "2xc6-grOwMgH"
      },
      "source": [
        "<span style=\"color:red\">TODO: Check and replace, if apply, the values identified as error because do not match with the dictionary</span>"
      ]
    },
    {
      "cell_type": "code",
      "source": [
        "# cantidad de registros antes de eliminar \n",
        "countBefore = homicides_df.count()[0] \n",
        "\n",
        "# eliminando registros donde el departamenteo no concide con la lista de departamentos permitidos\n",
        "homicides_df = homicides_df[~homicides_df.DEPARTAMENTO.isin(homicides_df.loc[~homicides_df[\"DEPARTAMENTO\"].isin(departments_list), \"DEPARTAMENTO\"])]\n",
        "\n",
        "# cantidad de registros despues de eliminar \n",
        "countAfter = homicides_df.count()[0] \n",
        "\n",
        "# cantidad de registros Eliminados\n",
        "print(countBefore - countAfter)  "
      ],
      "metadata": {
        "colab": {
          "base_uri": "https://localhost:8080/"
        },
        "id": "RRmmKuwm5A4H",
        "outputId": "1e02054d-7065-4778-c528-c4b3e2914553"
      },
      "execution_count": null,
      "outputs": [
        {
          "output_type": "stream",
          "name": "stdout",
          "text": [
            "0\n"
          ]
        }
      ]
    },
    {
      "cell_type": "code",
      "execution_count": null,
      "metadata": {
        "id": "bxxhmUkqwMgH"
      },
      "outputs": [],
      "source": [
        "# Detecting duplicates by \"CÉDULA\" column\n",
        "duplicates_by_cedula = homicides_df.loc[homicides_df[\"CÉDULA\"].duplicated(keep = False)]"
      ]
    },
    {
      "cell_type": "code",
      "execution_count": null,
      "metadata": {
        "colab": {
          "base_uri": "https://localhost:8080/"
        },
        "id": "KaqkD7WwwMgI",
        "outputId": "421bb0f3-6a27-4cc2-fd6c-4e42a6d4ae34"
      },
      "outputs": [
        {
          "output_type": "execute_result",
          "data": {
            "text/plain": [
              "(1606, 21)"
            ]
          },
          "metadata": {},
          "execution_count": 83
        }
      ],
      "source": [
        "duplicates_by_cedula.shape"
      ]
    },
    {
      "cell_type": "code",
      "execution_count": null,
      "metadata": {
        "colab": {
          "base_uri": "https://localhost:8080/",
          "height": 527
        },
        "id": "QtGNjqM2wMgI",
        "outputId": "51cb5527-b551-459d-e7ce-58536d135eb9"
      },
      "outputs": [
        {
          "output_type": "execute_result",
          "data": {
            "text/plain": [
              "                    FECHA DEPARTAMENTO      MUNICIPIO      DIA  \\\n",
              "3810  2015-04-26 03:00:00    ANTIOQUIA   SAN JERÓNIMO  Domingo   \n",
              "4041  2015-05-03 23:30:00        CAUCA       EL TAMBO  Domingo   \n",
              "693   2015-01-19 05:30:00    ANTIOQUIA         SALGAR    Lunes   \n",
              "10796 2015-11-20 03:00:00        VALLE      CALI (CT)  Viernes   \n",
              "138   2015-01-02 06:20:00        CAUCA         SOTARA  Viernes   \n",
              "2386  2015-03-14 02:00:00         META  FUENTE DE ORO   Sábado   \n",
              "\n",
              "                    BARRIO    ZONA                      CLASE DE SITIO  \\\n",
              "3810              LA PLAYA  URBANA  HOTELES, RESIDENCIAS, Y SIMILARES.   \n",
              "4041           LA VICTORIA   RURAL         BARES, CANTINAS Y SIMILARES   \n",
              "693              LA HABANA  URBANA                       VIAS PUBLICAS   \n",
              "10796   POTRERO GRANDE E21  URBANA                       VIAS PUBLICAS   \n",
              "138                 CENTRO   RURAL                       VIAS PUBLICAS   \n",
              "2386   VEREDA PUERTO NUEVO   RURAL         BARES, CANTINAS Y SIMILARES   \n",
              "\n",
              "             ARMA O MEDIO MOVIL VICTIMA MOVIL AGRESOR  EDAD     GENERO  \\\n",
              "3810   CUERDA/SOGA/CADENA         A PIE         A PIE  25.0  MASCULINO   \n",
              "4041        ARMA DE FUEGO         A PIE         A PIE  45.0  MASCULINO   \n",
              "693         ARMA DE FUEGO         A PIE         A PIE  58.0  MASCULINO   \n",
              "10796       ARMA DE FUEGO         A PIE         A PIE  21.0  MASCULINO   \n",
              "138           ARMA BLANCA         A PIE         A PIE  22.0  MASCULINO   \n",
              "2386          ARMA BLANCA         A PIE         A PIE  42.0  MASCULINO   \n",
              "\n",
              "      ESTADO CIVIL       CLASE EMPLEADO     PROFESION ESCOLARIDAD PAIS NACE  \\\n",
              "3810       SOLTERO        INDEPENDIENTE  NO REPORTADO  SECUNDARIA  COLOMBIA   \n",
              "4041   UNION LIBRE           AGRICULTOR  NO REPORTADO    PRIMARIA  COLOMBIA   \n",
              "693        SOLTERO           AGRICULTOR  NO REPORTADO    PRIMARIA  COLOMBIA   \n",
              "10796      SOLTERO  EMPLEADO PARTICULAR  NO REPORTADO  SECUNDARIA  COLOMBIA   \n",
              "138        SOLTERO    EMPLEADO EJERCITO  NO REPORTADO  SECUNDARIA  COLOMBIA   \n",
              "2386       SOLTERO        INDEPENDIENTE  NO REPORTADO    PRIMARIA  COLOMBIA   \n",
              "\n",
              "       CODIGO DANE  AÑO DE NACIMIENTO  CÉDULA                      CORREO  \n",
              "3810     5656000.0             1997.0  10-048  ibbcpu2509@unidatos.edu.co  \n",
              "4041    19256000.0             1977.0  10-048        aitufn1227@gmail.com  \n",
              "693      5642000.0             1964.0  10-079  unhoqj1172@unidatos.edu.co  \n",
              "10796   76001000.0             2001.0  10-079  iknnoj8430@unidatos.edu.co  \n",
              "138     19760000.0             2000.0  10-255  cobgqs8819@unidatos.edu.co  \n",
              "2386    50287000.0             1980.0  10-255  afompq7113@unidatos.edu.co  "
            ],
            "text/html": [
              "\n",
              "  <div id=\"df-2a5f8f37-ba62-4e61-b8db-92d9efb79286\">\n",
              "    <div class=\"colab-df-container\">\n",
              "      <div>\n",
              "<style scoped>\n",
              "    .dataframe tbody tr th:only-of-type {\n",
              "        vertical-align: middle;\n",
              "    }\n",
              "\n",
              "    .dataframe tbody tr th {\n",
              "        vertical-align: top;\n",
              "    }\n",
              "\n",
              "    .dataframe thead th {\n",
              "        text-align: right;\n",
              "    }\n",
              "</style>\n",
              "<table border=\"1\" class=\"dataframe\">\n",
              "  <thead>\n",
              "    <tr style=\"text-align: right;\">\n",
              "      <th></th>\n",
              "      <th>FECHA</th>\n",
              "      <th>DEPARTAMENTO</th>\n",
              "      <th>MUNICIPIO</th>\n",
              "      <th>DIA</th>\n",
              "      <th>BARRIO</th>\n",
              "      <th>ZONA</th>\n",
              "      <th>CLASE DE SITIO</th>\n",
              "      <th>ARMA O MEDIO</th>\n",
              "      <th>MOVIL VICTIMA</th>\n",
              "      <th>MOVIL AGRESOR</th>\n",
              "      <th>EDAD</th>\n",
              "      <th>GENERO</th>\n",
              "      <th>ESTADO CIVIL</th>\n",
              "      <th>CLASE EMPLEADO</th>\n",
              "      <th>PROFESION</th>\n",
              "      <th>ESCOLARIDAD</th>\n",
              "      <th>PAIS NACE</th>\n",
              "      <th>CODIGO DANE</th>\n",
              "      <th>AÑO DE NACIMIENTO</th>\n",
              "      <th>CÉDULA</th>\n",
              "      <th>CORREO</th>\n",
              "    </tr>\n",
              "  </thead>\n",
              "  <tbody>\n",
              "    <tr>\n",
              "      <th>3810</th>\n",
              "      <td>2015-04-26 03:00:00</td>\n",
              "      <td>ANTIOQUIA</td>\n",
              "      <td>SAN JERÓNIMO</td>\n",
              "      <td>Domingo</td>\n",
              "      <td>LA PLAYA</td>\n",
              "      <td>URBANA</td>\n",
              "      <td>HOTELES, RESIDENCIAS, Y SIMILARES.</td>\n",
              "      <td>CUERDA/SOGA/CADENA</td>\n",
              "      <td>A PIE</td>\n",
              "      <td>A PIE</td>\n",
              "      <td>25.0</td>\n",
              "      <td>MASCULINO</td>\n",
              "      <td>SOLTERO</td>\n",
              "      <td>INDEPENDIENTE</td>\n",
              "      <td>NO REPORTADO</td>\n",
              "      <td>SECUNDARIA</td>\n",
              "      <td>COLOMBIA</td>\n",
              "      <td>5656000.0</td>\n",
              "      <td>1997.0</td>\n",
              "      <td>10-048</td>\n",
              "      <td>ibbcpu2509@unidatos.edu.co</td>\n",
              "    </tr>\n",
              "    <tr>\n",
              "      <th>4041</th>\n",
              "      <td>2015-05-03 23:30:00</td>\n",
              "      <td>CAUCA</td>\n",
              "      <td>EL TAMBO</td>\n",
              "      <td>Domingo</td>\n",
              "      <td>LA VICTORIA</td>\n",
              "      <td>RURAL</td>\n",
              "      <td>BARES, CANTINAS Y SIMILARES</td>\n",
              "      <td>ARMA DE FUEGO</td>\n",
              "      <td>A PIE</td>\n",
              "      <td>A PIE</td>\n",
              "      <td>45.0</td>\n",
              "      <td>MASCULINO</td>\n",
              "      <td>UNION LIBRE</td>\n",
              "      <td>AGRICULTOR</td>\n",
              "      <td>NO REPORTADO</td>\n",
              "      <td>PRIMARIA</td>\n",
              "      <td>COLOMBIA</td>\n",
              "      <td>19256000.0</td>\n",
              "      <td>1977.0</td>\n",
              "      <td>10-048</td>\n",
              "      <td>aitufn1227@gmail.com</td>\n",
              "    </tr>\n",
              "    <tr>\n",
              "      <th>693</th>\n",
              "      <td>2015-01-19 05:30:00</td>\n",
              "      <td>ANTIOQUIA</td>\n",
              "      <td>SALGAR</td>\n",
              "      <td>Lunes</td>\n",
              "      <td>LA HABANA</td>\n",
              "      <td>URBANA</td>\n",
              "      <td>VIAS PUBLICAS</td>\n",
              "      <td>ARMA DE FUEGO</td>\n",
              "      <td>A PIE</td>\n",
              "      <td>A PIE</td>\n",
              "      <td>58.0</td>\n",
              "      <td>MASCULINO</td>\n",
              "      <td>SOLTERO</td>\n",
              "      <td>AGRICULTOR</td>\n",
              "      <td>NO REPORTADO</td>\n",
              "      <td>PRIMARIA</td>\n",
              "      <td>COLOMBIA</td>\n",
              "      <td>5642000.0</td>\n",
              "      <td>1964.0</td>\n",
              "      <td>10-079</td>\n",
              "      <td>unhoqj1172@unidatos.edu.co</td>\n",
              "    </tr>\n",
              "    <tr>\n",
              "      <th>10796</th>\n",
              "      <td>2015-11-20 03:00:00</td>\n",
              "      <td>VALLE</td>\n",
              "      <td>CALI (CT)</td>\n",
              "      <td>Viernes</td>\n",
              "      <td>POTRERO GRANDE E21</td>\n",
              "      <td>URBANA</td>\n",
              "      <td>VIAS PUBLICAS</td>\n",
              "      <td>ARMA DE FUEGO</td>\n",
              "      <td>A PIE</td>\n",
              "      <td>A PIE</td>\n",
              "      <td>21.0</td>\n",
              "      <td>MASCULINO</td>\n",
              "      <td>SOLTERO</td>\n",
              "      <td>EMPLEADO PARTICULAR</td>\n",
              "      <td>NO REPORTADO</td>\n",
              "      <td>SECUNDARIA</td>\n",
              "      <td>COLOMBIA</td>\n",
              "      <td>76001000.0</td>\n",
              "      <td>2001.0</td>\n",
              "      <td>10-079</td>\n",
              "      <td>iknnoj8430@unidatos.edu.co</td>\n",
              "    </tr>\n",
              "    <tr>\n",
              "      <th>138</th>\n",
              "      <td>2015-01-02 06:20:00</td>\n",
              "      <td>CAUCA</td>\n",
              "      <td>SOTARA</td>\n",
              "      <td>Viernes</td>\n",
              "      <td>CENTRO</td>\n",
              "      <td>RURAL</td>\n",
              "      <td>VIAS PUBLICAS</td>\n",
              "      <td>ARMA BLANCA</td>\n",
              "      <td>A PIE</td>\n",
              "      <td>A PIE</td>\n",
              "      <td>22.0</td>\n",
              "      <td>MASCULINO</td>\n",
              "      <td>SOLTERO</td>\n",
              "      <td>EMPLEADO EJERCITO</td>\n",
              "      <td>NO REPORTADO</td>\n",
              "      <td>SECUNDARIA</td>\n",
              "      <td>COLOMBIA</td>\n",
              "      <td>19760000.0</td>\n",
              "      <td>2000.0</td>\n",
              "      <td>10-255</td>\n",
              "      <td>cobgqs8819@unidatos.edu.co</td>\n",
              "    </tr>\n",
              "    <tr>\n",
              "      <th>2386</th>\n",
              "      <td>2015-03-14 02:00:00</td>\n",
              "      <td>META</td>\n",
              "      <td>FUENTE DE ORO</td>\n",
              "      <td>Sábado</td>\n",
              "      <td>VEREDA PUERTO NUEVO</td>\n",
              "      <td>RURAL</td>\n",
              "      <td>BARES, CANTINAS Y SIMILARES</td>\n",
              "      <td>ARMA BLANCA</td>\n",
              "      <td>A PIE</td>\n",
              "      <td>A PIE</td>\n",
              "      <td>42.0</td>\n",
              "      <td>MASCULINO</td>\n",
              "      <td>SOLTERO</td>\n",
              "      <td>INDEPENDIENTE</td>\n",
              "      <td>NO REPORTADO</td>\n",
              "      <td>PRIMARIA</td>\n",
              "      <td>COLOMBIA</td>\n",
              "      <td>50287000.0</td>\n",
              "      <td>1980.0</td>\n",
              "      <td>10-255</td>\n",
              "      <td>afompq7113@unidatos.edu.co</td>\n",
              "    </tr>\n",
              "  </tbody>\n",
              "</table>\n",
              "</div>\n",
              "      <button class=\"colab-df-convert\" onclick=\"convertToInteractive('df-2a5f8f37-ba62-4e61-b8db-92d9efb79286')\"\n",
              "              title=\"Convert this dataframe to an interactive table.\"\n",
              "              style=\"display:none;\">\n",
              "        \n",
              "  <svg xmlns=\"http://www.w3.org/2000/svg\" height=\"24px\"viewBox=\"0 0 24 24\"\n",
              "       width=\"24px\">\n",
              "    <path d=\"M0 0h24v24H0V0z\" fill=\"none\"/>\n",
              "    <path d=\"M18.56 5.44l.94 2.06.94-2.06 2.06-.94-2.06-.94-.94-2.06-.94 2.06-2.06.94zm-11 1L8.5 8.5l.94-2.06 2.06-.94-2.06-.94L8.5 2.5l-.94 2.06-2.06.94zm10 10l.94 2.06.94-2.06 2.06-.94-2.06-.94-.94-2.06-.94 2.06-2.06.94z\"/><path d=\"M17.41 7.96l-1.37-1.37c-.4-.4-.92-.59-1.43-.59-.52 0-1.04.2-1.43.59L10.3 9.45l-7.72 7.72c-.78.78-.78 2.05 0 2.83L4 21.41c.39.39.9.59 1.41.59.51 0 1.02-.2 1.41-.59l7.78-7.78 2.81-2.81c.8-.78.8-2.07 0-2.86zM5.41 20L4 18.59l7.72-7.72 1.47 1.35L5.41 20z\"/>\n",
              "  </svg>\n",
              "      </button>\n",
              "      \n",
              "  <style>\n",
              "    .colab-df-container {\n",
              "      display:flex;\n",
              "      flex-wrap:wrap;\n",
              "      gap: 12px;\n",
              "    }\n",
              "\n",
              "    .colab-df-convert {\n",
              "      background-color: #E8F0FE;\n",
              "      border: none;\n",
              "      border-radius: 50%;\n",
              "      cursor: pointer;\n",
              "      display: none;\n",
              "      fill: #1967D2;\n",
              "      height: 32px;\n",
              "      padding: 0 0 0 0;\n",
              "      width: 32px;\n",
              "    }\n",
              "\n",
              "    .colab-df-convert:hover {\n",
              "      background-color: #E2EBFA;\n",
              "      box-shadow: 0px 1px 2px rgba(60, 64, 67, 0.3), 0px 1px 3px 1px rgba(60, 64, 67, 0.15);\n",
              "      fill: #174EA6;\n",
              "    }\n",
              "\n",
              "    [theme=dark] .colab-df-convert {\n",
              "      background-color: #3B4455;\n",
              "      fill: #D2E3FC;\n",
              "    }\n",
              "\n",
              "    [theme=dark] .colab-df-convert:hover {\n",
              "      background-color: #434B5C;\n",
              "      box-shadow: 0px 1px 3px 1px rgba(0, 0, 0, 0.15);\n",
              "      filter: drop-shadow(0px 1px 2px rgba(0, 0, 0, 0.3));\n",
              "      fill: #FFFFFF;\n",
              "    }\n",
              "  </style>\n",
              "\n",
              "      <script>\n",
              "        const buttonEl =\n",
              "          document.querySelector('#df-2a5f8f37-ba62-4e61-b8db-92d9efb79286 button.colab-df-convert');\n",
              "        buttonEl.style.display =\n",
              "          google.colab.kernel.accessAllowed ? 'block' : 'none';\n",
              "\n",
              "        async function convertToInteractive(key) {\n",
              "          const element = document.querySelector('#df-2a5f8f37-ba62-4e61-b8db-92d9efb79286');\n",
              "          const dataTable =\n",
              "            await google.colab.kernel.invokeFunction('convertToInteractive',\n",
              "                                                     [key], {});\n",
              "          if (!dataTable) return;\n",
              "\n",
              "          const docLinkHtml = 'Like what you see? Visit the ' +\n",
              "            '<a target=\"_blank\" href=https://colab.research.google.com/notebooks/data_table.ipynb>data table notebook</a>'\n",
              "            + ' to learn more about interactive tables.';\n",
              "          element.innerHTML = '';\n",
              "          dataTable['output_type'] = 'display_data';\n",
              "          await google.colab.output.renderOutput(dataTable, element);\n",
              "          const docLink = document.createElement('div');\n",
              "          docLink.innerHTML = docLinkHtml;\n",
              "          element.appendChild(docLink);\n",
              "        }\n",
              "      </script>\n",
              "    </div>\n",
              "  </div>\n",
              "  "
            ]
          },
          "metadata": {},
          "execution_count": 84
        }
      ],
      "source": [
        "# Showing some examples\n",
        "duplicates_by_cedula.sort_values(\"CÉDULA\", ascending = True).head(6)"
      ]
    },
    {
      "cell_type": "markdown",
      "metadata": {
        "id": "jRhOtht2wMgI"
      },
      "source": [
        "<span style=\"color:red\">TODO: Delete records with \"CÉDULA\" duplicated</span>\n",
        "\n",
        "<span style=\"color:red\">Hint: You can use drop_duplicates() function. Make sure to update original dataframe. Google it!</span>"
      ]
    },
    {
      "cell_type": "code",
      "source": [
        "# Loading data\n",
        "homicides_df = pd.read_csv(\"homicides.csv\")"
      ],
      "metadata": {
        "id": "J3FdsHOMojYg"
      },
      "execution_count": null,
      "outputs": []
    },
    {
      "cell_type": "code",
      "execution_count": null,
      "metadata": {
        "id": "z1GSADf8wMgI"
      },
      "outputs": [],
      "source": [
        "# se eliminan los registros donde la cedula este duplicada \n",
        "homicides_df = homicides_df.drop_duplicates(subset=['CÉDULA'])"
      ]
    },
    {
      "cell_type": "code",
      "execution_count": null,
      "metadata": {
        "id": "5JF_Hy8GwMgI"
      },
      "outputs": [],
      "source": [
        "# Using regular expressions for validating if \"CÉDULA\" values match the pattern XX-XXX\n",
        "cedula_malformed = homicides_df.loc[homicides_df[\"CÉDULA\"].astype(str).apply(lambda x: (re.match(\"\\d{2}-\\d{3}\", x) is None))]"
      ]
    },
    {
      "cell_type": "code",
      "execution_count": null,
      "metadata": {
        "colab": {
          "base_uri": "https://localhost:8080/"
        },
        "id": "0od89UwQwMgJ",
        "outputId": "02e16886-ee51-4e55-f8b3-e25c5d82314a"
      },
      "outputs": [
        {
          "output_type": "execute_result",
          "data": {
            "text/plain": [
              "172     680-21\n",
              "1114    140-17\n",
              "2119    975-31\n",
              "3309    348-66\n",
              "3409    496-18\n",
              "Name: CÉDULA, dtype: object"
            ]
          },
          "metadata": {},
          "execution_count": 353
        }
      ],
      "source": [
        "cedula_malformed[\"CÉDULA\"].head()"
      ]
    },
    {
      "cell_type": "markdown",
      "metadata": {
        "id": "T4d1vEPawMgJ"
      },
      "source": [
        "<span style=\"color:red\">TODO: Fix the malformed \"CÉDULA\" values. Make sure to update original dataframe.</span>"
      ]
    },
    {
      "cell_type": "code",
      "source": [
        "homicides_df[\"CÉDULA\"].head()"
      ],
      "metadata": {
        "colab": {
          "base_uri": "https://localhost:8080/"
        },
        "id": "Z3t4aMUYldJ1",
        "outputId": "f2231c3b-9f07-4cb9-8ed0-91f77ca35580"
      },
      "execution_count": null,
      "outputs": [
        {
          "output_type": "execute_result",
          "data": {
            "text/plain": [
              "FECHA                 object\n",
              "DEPARTAMENTO          object\n",
              "MUNICIPIO             object\n",
              "DIA                   object\n",
              "HORA                  object\n",
              "BARRIO                object\n",
              "ZONA                  object\n",
              "CLASE DE SITIO        object\n",
              "ARMA O MEDIO          object\n",
              "MOVIL VICTIMA         object\n",
              "MOVIL AGRESOR         object\n",
              "EDAD                 float64\n",
              "GENERO                object\n",
              "ESTADO CIVIL          object\n",
              "CLASE EMPLEADO        object\n",
              "PROFESION             object\n",
              "ESCOLARIDAD           object\n",
              "PAIS NACE             object\n",
              "CODIGO DANE          float64\n",
              "2015                   int64\n",
              "AÑO DE NACIMIENTO    float64\n",
              "CÉDULA                object\n",
              "CORREO                object\n",
              "dtype: object"
            ]
          },
          "metadata": {},
          "execution_count": 344
        }
      ]
    },
    {
      "cell_type": "code",
      "source": [
        "homicides_dfTemp = homicides_df"
      ],
      "metadata": {
        "id": "scDzUtLjkONY"
      },
      "execution_count": null,
      "outputs": []
    },
    {
      "cell_type": "code",
      "source": [
        "homicides_df = homicides_dfTemp"
      ],
      "metadata": {
        "id": "lRHoc_N0kRBL"
      },
      "execution_count": null,
      "outputs": []
    },
    {
      "cell_type": "code",
      "source": [
        "def fixCedula(pText):\n",
        "  try:\n",
        "    text = str(pText)\n",
        "    textOk = text[text.index(\"-\")+1:len(text)] + \"-\" + text[:text.index(\"-\")]\n",
        "    print(textOk)\n",
        "    return textOk\n",
        "  except:\n",
        "    print(\"E\")\n",
        "    return text\n",
        "  "
      ],
      "metadata": {
        "id": "1F6BPx-vb4Nc"
      },
      "execution_count": null,
      "outputs": []
    },
    {
      "cell_type": "code",
      "source": [
        "fixCedula(\"680-21\")"
      ],
      "metadata": {
        "colab": {
          "base_uri": "https://localhost:8080/",
          "height": 53
        },
        "id": "5lfpKxEucDPp",
        "outputId": "34869e43-97c6-45bd-dc6c-0e14d4b98302"
      },
      "execution_count": null,
      "outputs": [
        {
          "output_type": "stream",
          "name": "stdout",
          "text": [
            "21-680\n"
          ]
        },
        {
          "output_type": "execute_result",
          "data": {
            "text/plain": [
              "'21-680'"
            ],
            "application/vnd.google.colaboratory.intrinsic+json": {
              "type": "string"
            }
          },
          "metadata": {},
          "execution_count": 345
        }
      ]
    },
    {
      "cell_type": "code",
      "execution_count": null,
      "metadata": {
        "colab": {
          "base_uri": "https://localhost:8080/",
          "height": 1000
        },
        "id": "nkEtXwm5wMgJ",
        "outputId": "56006874-eeaf-4063-a2d3-2b782427ae85"
      },
      "outputs": [
        {
          "output_type": "stream",
          "name": "stdout",
          "text": [
            "Invertir datos\n",
            "21\n",
            "1114     140-17\n",
            "2119     975-31\n",
            "3309     348-66\n",
            "3409     496-18\n",
            "3588     188-03\n",
            "4565     928-74\n",
            "4587     273-45\n",
            "4971     559-63\n",
            "5372     631-85\n",
            "5532     981-00\n",
            "5834     319-49\n",
            "5849     473-07\n",
            "6315     893-81\n",
            "7885     854-55\n",
            "8094     604-36\n",
            "8183     352-23\n",
            "8223     586-51\n",
            "9033     570-14\n",
            "9751     518-41\n",
            "10205    424-72\n",
            "10625    852-67\n",
            "10689    403-11\n",
            "10959    502-05\n",
            "11020    529-37\n",
            "11740    864-83\n",
            "11957    856-04\n",
            "12206    128-61\n",
            "12399       NaN\n",
            "Name: CÉDULA, dtype: object-172      680\n"
          ]
        },
        {
          "output_type": "error",
          "ename": "KeyError",
          "evalue": "ignored",
          "traceback": [
            "\u001b[0;31m---------------------------------------------------------------------------\u001b[0m",
            "\u001b[0;31mKeyError\u001b[0m                                  Traceback (most recent call last)",
            "\u001b[0;32m/usr/local/lib/python3.7/dist-packages/pandas/core/indexes/base.py\u001b[0m in \u001b[0;36mget_loc\u001b[0;34m(self, key, method, tolerance)\u001b[0m\n\u001b[1;32m   3360\u001b[0m             \u001b[0;32mtry\u001b[0m\u001b[0;34m:\u001b[0m\u001b[0;34m\u001b[0m\u001b[0;34m\u001b[0m\u001b[0m\n\u001b[0;32m-> 3361\u001b[0;31m                 \u001b[0;32mreturn\u001b[0m \u001b[0mself\u001b[0m\u001b[0;34m.\u001b[0m\u001b[0m_engine\u001b[0m\u001b[0;34m.\u001b[0m\u001b[0mget_loc\u001b[0m\u001b[0;34m(\u001b[0m\u001b[0mcasted_key\u001b[0m\u001b[0;34m)\u001b[0m\u001b[0;34m\u001b[0m\u001b[0;34m\u001b[0m\u001b[0m\n\u001b[0m\u001b[1;32m   3362\u001b[0m             \u001b[0;32mexcept\u001b[0m \u001b[0mKeyError\u001b[0m \u001b[0;32mas\u001b[0m \u001b[0merr\u001b[0m\u001b[0;34m:\u001b[0m\u001b[0;34m\u001b[0m\u001b[0;34m\u001b[0m\u001b[0m\n",
            "\u001b[0;32m/usr/local/lib/python3.7/dist-packages/pandas/_libs/index.pyx\u001b[0m in \u001b[0;36mpandas._libs.index.IndexEngine.get_loc\u001b[0;34m()\u001b[0m\n",
            "\u001b[0;32m/usr/local/lib/python3.7/dist-packages/pandas/_libs/index.pyx\u001b[0m in \u001b[0;36mpandas._libs.index.IndexEngine.get_loc\u001b[0;34m()\u001b[0m\n",
            "\u001b[0;32mpandas/_libs/hashtable_class_helper.pxi\u001b[0m in \u001b[0;36mpandas._libs.hashtable.PyObjectHashTable.get_item\u001b[0;34m()\u001b[0m\n",
            "\u001b[0;32mpandas/_libs/hashtable_class_helper.pxi\u001b[0m in \u001b[0;36mpandas._libs.hashtable.PyObjectHashTable.get_item\u001b[0;34m()\u001b[0m\n",
            "\u001b[0;31mKeyError\u001b[0m: '21\\n1114     140-17\\n2119     975-31\\n3309     348-66\\n3409     496-18\\n3588     188-03\\n4565     928-74\\n4587     273-45\\n4971     559-63\\n5372     631-85\\n5532     981-00\\n5834     319-49\\n5849     473-07\\n6315     893-81\\n7885     854-55\\n8094     604-36\\n8183     352-23\\n8223     586-51\\n9033     570-14\\n9751     518-41\\n10205    424-72\\n10625    852-67\\n10689    403-11\\n10959    502-05\\n11020    529-37\\n11740    864-83\\n11957    856-04\\n12206    128-61\\n12399       NaN\\nName: CÉDULA, dtype: object-172      680'",
            "\nThe above exception was the direct cause of the following exception:\n",
            "\u001b[0;31mKeyError\u001b[0m                                  Traceback (most recent call last)",
            "\u001b[0;32m<ipython-input-354-ebdeb68e1506>\u001b[0m in \u001b[0;36m<module>\u001b[0;34m()\u001b[0m\n\u001b[1;32m      8\u001b[0m   \u001b[0mprint\u001b[0m\u001b[0;34m(\u001b[0m\u001b[0;34m\"Invertir datos\"\u001b[0m\u001b[0;34m)\u001b[0m\u001b[0;34m\u001b[0m\u001b[0;34m\u001b[0m\u001b[0m\n\u001b[1;32m      9\u001b[0m   \u001b[0;31m# Invierte los datos\u001b[0m\u001b[0;34m\u001b[0m\u001b[0;34m\u001b[0m\u001b[0;34m\u001b[0m\u001b[0m\n\u001b[0;32m---> 10\u001b[0;31m   \u001b[0mhomicides_df\u001b[0m\u001b[0;34m[\u001b[0m\u001b[0;34m'CÉDULA'\u001b[0m\u001b[0;34m]\u001b[0m \u001b[0;34m=\u001b[0m \u001b[0mhomicides_df\u001b[0m\u001b[0;34m.\u001b[0m\u001b[0mloc\u001b[0m\u001b[0;34m[\u001b[0m\u001b[0mhomicides_df\u001b[0m\u001b[0;34m.\u001b[0m\u001b[0mCÉDULA\u001b[0m\u001b[0;34m.\u001b[0m\u001b[0misin\u001b[0m\u001b[0;34m(\u001b[0m\u001b[0mcedula_malformed\u001b[0m\u001b[0;34m.\u001b[0m\u001b[0mCÉDULA\u001b[0m\u001b[0;34m)\u001b[0m\u001b[0;34m,\u001b[0m \u001b[0mfixCedula\u001b[0m\u001b[0;34m(\u001b[0m\u001b[0mcedula_malformed\u001b[0m\u001b[0;34m[\u001b[0m\u001b[0;34m'CÉDULA'\u001b[0m\u001b[0;34m]\u001b[0m\u001b[0;34m)\u001b[0m\u001b[0;34m]\u001b[0m \u001b[0;31m#= fixCedula(cedula_malformed.CÉDULA)\u001b[0m\u001b[0;34m\u001b[0m\u001b[0;34m\u001b[0m\u001b[0m\n\u001b[0m",
            "\u001b[0;32m/usr/local/lib/python3.7/dist-packages/pandas/core/indexing.py\u001b[0m in \u001b[0;36m__getitem__\u001b[0;34m(self, key)\u001b[0m\n\u001b[1;32m    923\u001b[0m                 \u001b[0;32mwith\u001b[0m \u001b[0msuppress\u001b[0m\u001b[0;34m(\u001b[0m\u001b[0mKeyError\u001b[0m\u001b[0;34m,\u001b[0m \u001b[0mIndexError\u001b[0m\u001b[0;34m)\u001b[0m\u001b[0;34m:\u001b[0m\u001b[0;34m\u001b[0m\u001b[0;34m\u001b[0m\u001b[0m\n\u001b[1;32m    924\u001b[0m                     \u001b[0;32mreturn\u001b[0m \u001b[0mself\u001b[0m\u001b[0;34m.\u001b[0m\u001b[0mobj\u001b[0m\u001b[0;34m.\u001b[0m\u001b[0m_get_value\u001b[0m\u001b[0;34m(\u001b[0m\u001b[0;34m*\u001b[0m\u001b[0mkey\u001b[0m\u001b[0;34m,\u001b[0m \u001b[0mtakeable\u001b[0m\u001b[0;34m=\u001b[0m\u001b[0mself\u001b[0m\u001b[0;34m.\u001b[0m\u001b[0m_takeable\u001b[0m\u001b[0;34m)\u001b[0m\u001b[0;34m\u001b[0m\u001b[0;34m\u001b[0m\u001b[0m\n\u001b[0;32m--> 925\u001b[0;31m             \u001b[0;32mreturn\u001b[0m \u001b[0mself\u001b[0m\u001b[0;34m.\u001b[0m\u001b[0m_getitem_tuple\u001b[0m\u001b[0;34m(\u001b[0m\u001b[0mkey\u001b[0m\u001b[0;34m)\u001b[0m\u001b[0;34m\u001b[0m\u001b[0;34m\u001b[0m\u001b[0m\n\u001b[0m\u001b[1;32m    926\u001b[0m         \u001b[0;32melse\u001b[0m\u001b[0;34m:\u001b[0m\u001b[0;34m\u001b[0m\u001b[0;34m\u001b[0m\u001b[0m\n\u001b[1;32m    927\u001b[0m             \u001b[0;31m# we by definition only have the 0th axis\u001b[0m\u001b[0;34m\u001b[0m\u001b[0;34m\u001b[0m\u001b[0;34m\u001b[0m\u001b[0m\n",
            "\u001b[0;32m/usr/local/lib/python3.7/dist-packages/pandas/core/indexing.py\u001b[0m in \u001b[0;36m_getitem_tuple\u001b[0;34m(self, tup)\u001b[0m\n\u001b[1;32m   1098\u001b[0m     \u001b[0;32mdef\u001b[0m \u001b[0m_getitem_tuple\u001b[0m\u001b[0;34m(\u001b[0m\u001b[0mself\u001b[0m\u001b[0;34m,\u001b[0m \u001b[0mtup\u001b[0m\u001b[0;34m:\u001b[0m \u001b[0mtuple\u001b[0m\u001b[0;34m)\u001b[0m\u001b[0;34m:\u001b[0m\u001b[0;34m\u001b[0m\u001b[0;34m\u001b[0m\u001b[0m\n\u001b[1;32m   1099\u001b[0m         \u001b[0;32mwith\u001b[0m \u001b[0msuppress\u001b[0m\u001b[0;34m(\u001b[0m\u001b[0mIndexingError\u001b[0m\u001b[0;34m)\u001b[0m\u001b[0;34m:\u001b[0m\u001b[0;34m\u001b[0m\u001b[0;34m\u001b[0m\u001b[0m\n\u001b[0;32m-> 1100\u001b[0;31m             \u001b[0;32mreturn\u001b[0m \u001b[0mself\u001b[0m\u001b[0;34m.\u001b[0m\u001b[0m_getitem_lowerdim\u001b[0m\u001b[0;34m(\u001b[0m\u001b[0mtup\u001b[0m\u001b[0;34m)\u001b[0m\u001b[0;34m\u001b[0m\u001b[0;34m\u001b[0m\u001b[0m\n\u001b[0m\u001b[1;32m   1101\u001b[0m \u001b[0;34m\u001b[0m\u001b[0m\n\u001b[1;32m   1102\u001b[0m         \u001b[0;31m# no multi-index, so validate all of the indexers\u001b[0m\u001b[0;34m\u001b[0m\u001b[0;34m\u001b[0m\u001b[0;34m\u001b[0m\u001b[0m\n",
            "\u001b[0;32m/usr/local/lib/python3.7/dist-packages/pandas/core/indexing.py\u001b[0m in \u001b[0;36m_getitem_lowerdim\u001b[0;34m(self, tup)\u001b[0m\n\u001b[1;32m    836\u001b[0m                 \u001b[0;31m# We don't need to check for tuples here because those are\u001b[0m\u001b[0;34m\u001b[0m\u001b[0;34m\u001b[0m\u001b[0;34m\u001b[0m\u001b[0m\n\u001b[1;32m    837\u001b[0m                 \u001b[0;31m#  caught by the _is_nested_tuple_indexer check above.\u001b[0m\u001b[0;34m\u001b[0m\u001b[0;34m\u001b[0m\u001b[0;34m\u001b[0m\u001b[0m\n\u001b[0;32m--> 838\u001b[0;31m                 \u001b[0msection\u001b[0m \u001b[0;34m=\u001b[0m \u001b[0mself\u001b[0m\u001b[0;34m.\u001b[0m\u001b[0m_getitem_axis\u001b[0m\u001b[0;34m(\u001b[0m\u001b[0mkey\u001b[0m\u001b[0;34m,\u001b[0m \u001b[0maxis\u001b[0m\u001b[0;34m=\u001b[0m\u001b[0mi\u001b[0m\u001b[0;34m)\u001b[0m\u001b[0;34m\u001b[0m\u001b[0;34m\u001b[0m\u001b[0m\n\u001b[0m\u001b[1;32m    839\u001b[0m \u001b[0;34m\u001b[0m\u001b[0m\n\u001b[1;32m    840\u001b[0m                 \u001b[0;31m# We should never have a scalar section here, because\u001b[0m\u001b[0;34m\u001b[0m\u001b[0;34m\u001b[0m\u001b[0;34m\u001b[0m\u001b[0m\n",
            "\u001b[0;32m/usr/local/lib/python3.7/dist-packages/pandas/core/indexing.py\u001b[0m in \u001b[0;36m_getitem_axis\u001b[0;34m(self, key, axis)\u001b[0m\n\u001b[1;32m   1162\u001b[0m         \u001b[0;31m# fall thru to straight lookup\u001b[0m\u001b[0;34m\u001b[0m\u001b[0;34m\u001b[0m\u001b[0;34m\u001b[0m\u001b[0m\n\u001b[1;32m   1163\u001b[0m         \u001b[0mself\u001b[0m\u001b[0;34m.\u001b[0m\u001b[0m_validate_key\u001b[0m\u001b[0;34m(\u001b[0m\u001b[0mkey\u001b[0m\u001b[0;34m,\u001b[0m \u001b[0maxis\u001b[0m\u001b[0;34m)\u001b[0m\u001b[0;34m\u001b[0m\u001b[0;34m\u001b[0m\u001b[0m\n\u001b[0;32m-> 1164\u001b[0;31m         \u001b[0;32mreturn\u001b[0m \u001b[0mself\u001b[0m\u001b[0;34m.\u001b[0m\u001b[0m_get_label\u001b[0m\u001b[0;34m(\u001b[0m\u001b[0mkey\u001b[0m\u001b[0;34m,\u001b[0m \u001b[0maxis\u001b[0m\u001b[0;34m=\u001b[0m\u001b[0maxis\u001b[0m\u001b[0;34m)\u001b[0m\u001b[0;34m\u001b[0m\u001b[0;34m\u001b[0m\u001b[0m\n\u001b[0m\u001b[1;32m   1165\u001b[0m \u001b[0;34m\u001b[0m\u001b[0m\n\u001b[1;32m   1166\u001b[0m     \u001b[0;32mdef\u001b[0m \u001b[0m_get_slice_axis\u001b[0m\u001b[0;34m(\u001b[0m\u001b[0mself\u001b[0m\u001b[0;34m,\u001b[0m \u001b[0mslice_obj\u001b[0m\u001b[0;34m:\u001b[0m \u001b[0mslice\u001b[0m\u001b[0;34m,\u001b[0m \u001b[0maxis\u001b[0m\u001b[0;34m:\u001b[0m \u001b[0mint\u001b[0m\u001b[0;34m)\u001b[0m\u001b[0;34m:\u001b[0m\u001b[0;34m\u001b[0m\u001b[0;34m\u001b[0m\u001b[0m\n",
            "\u001b[0;32m/usr/local/lib/python3.7/dist-packages/pandas/core/indexing.py\u001b[0m in \u001b[0;36m_get_label\u001b[0;34m(self, label, axis)\u001b[0m\n\u001b[1;32m   1111\u001b[0m     \u001b[0;32mdef\u001b[0m \u001b[0m_get_label\u001b[0m\u001b[0;34m(\u001b[0m\u001b[0mself\u001b[0m\u001b[0;34m,\u001b[0m \u001b[0mlabel\u001b[0m\u001b[0;34m,\u001b[0m \u001b[0maxis\u001b[0m\u001b[0;34m:\u001b[0m \u001b[0mint\u001b[0m\u001b[0;34m)\u001b[0m\u001b[0;34m:\u001b[0m\u001b[0;34m\u001b[0m\u001b[0;34m\u001b[0m\u001b[0m\n\u001b[1;32m   1112\u001b[0m         \u001b[0;31m# GH#5667 this will fail if the label is not present in the axis.\u001b[0m\u001b[0;34m\u001b[0m\u001b[0;34m\u001b[0m\u001b[0;34m\u001b[0m\u001b[0m\n\u001b[0;32m-> 1113\u001b[0;31m         \u001b[0;32mreturn\u001b[0m \u001b[0mself\u001b[0m\u001b[0;34m.\u001b[0m\u001b[0mobj\u001b[0m\u001b[0;34m.\u001b[0m\u001b[0mxs\u001b[0m\u001b[0;34m(\u001b[0m\u001b[0mlabel\u001b[0m\u001b[0;34m,\u001b[0m \u001b[0maxis\u001b[0m\u001b[0;34m=\u001b[0m\u001b[0maxis\u001b[0m\u001b[0;34m)\u001b[0m\u001b[0;34m\u001b[0m\u001b[0;34m\u001b[0m\u001b[0m\n\u001b[0m\u001b[1;32m   1114\u001b[0m \u001b[0;34m\u001b[0m\u001b[0m\n\u001b[1;32m   1115\u001b[0m     \u001b[0;32mdef\u001b[0m \u001b[0m_handle_lowerdim_multi_index_axis0\u001b[0m\u001b[0;34m(\u001b[0m\u001b[0mself\u001b[0m\u001b[0;34m,\u001b[0m \u001b[0mtup\u001b[0m\u001b[0;34m:\u001b[0m \u001b[0mtuple\u001b[0m\u001b[0;34m)\u001b[0m\u001b[0;34m:\u001b[0m\u001b[0;34m\u001b[0m\u001b[0;34m\u001b[0m\u001b[0m\n",
            "\u001b[0;32m/usr/local/lib/python3.7/dist-packages/pandas/core/generic.py\u001b[0m in \u001b[0;36mxs\u001b[0;34m(self, key, axis, level, drop_level)\u001b[0m\n\u001b[1;32m   3759\u001b[0m         \u001b[0;32mif\u001b[0m \u001b[0maxis\u001b[0m \u001b[0;34m==\u001b[0m \u001b[0;36m1\u001b[0m\u001b[0;34m:\u001b[0m\u001b[0;34m\u001b[0m\u001b[0;34m\u001b[0m\u001b[0m\n\u001b[1;32m   3760\u001b[0m             \u001b[0;32mif\u001b[0m \u001b[0mdrop_level\u001b[0m\u001b[0;34m:\u001b[0m\u001b[0;34m\u001b[0m\u001b[0;34m\u001b[0m\u001b[0m\n\u001b[0;32m-> 3761\u001b[0;31m                 \u001b[0;32mreturn\u001b[0m \u001b[0mself\u001b[0m\u001b[0;34m[\u001b[0m\u001b[0mkey\u001b[0m\u001b[0;34m]\u001b[0m\u001b[0;34m\u001b[0m\u001b[0;34m\u001b[0m\u001b[0m\n\u001b[0m\u001b[1;32m   3762\u001b[0m             \u001b[0mindex\u001b[0m \u001b[0;34m=\u001b[0m \u001b[0mself\u001b[0m\u001b[0;34m.\u001b[0m\u001b[0mcolumns\u001b[0m\u001b[0;34m\u001b[0m\u001b[0;34m\u001b[0m\u001b[0m\n\u001b[1;32m   3763\u001b[0m         \u001b[0;32melse\u001b[0m\u001b[0;34m:\u001b[0m\u001b[0;34m\u001b[0m\u001b[0;34m\u001b[0m\u001b[0m\n",
            "\u001b[0;32m/usr/local/lib/python3.7/dist-packages/pandas/core/frame.py\u001b[0m in \u001b[0;36m__getitem__\u001b[0;34m(self, key)\u001b[0m\n\u001b[1;32m   3456\u001b[0m             \u001b[0;32mif\u001b[0m \u001b[0mself\u001b[0m\u001b[0;34m.\u001b[0m\u001b[0mcolumns\u001b[0m\u001b[0;34m.\u001b[0m\u001b[0mnlevels\u001b[0m \u001b[0;34m>\u001b[0m \u001b[0;36m1\u001b[0m\u001b[0;34m:\u001b[0m\u001b[0;34m\u001b[0m\u001b[0;34m\u001b[0m\u001b[0m\n\u001b[1;32m   3457\u001b[0m                 \u001b[0;32mreturn\u001b[0m \u001b[0mself\u001b[0m\u001b[0;34m.\u001b[0m\u001b[0m_getitem_multilevel\u001b[0m\u001b[0;34m(\u001b[0m\u001b[0mkey\u001b[0m\u001b[0;34m)\u001b[0m\u001b[0;34m\u001b[0m\u001b[0;34m\u001b[0m\u001b[0m\n\u001b[0;32m-> 3458\u001b[0;31m             \u001b[0mindexer\u001b[0m \u001b[0;34m=\u001b[0m \u001b[0mself\u001b[0m\u001b[0;34m.\u001b[0m\u001b[0mcolumns\u001b[0m\u001b[0;34m.\u001b[0m\u001b[0mget_loc\u001b[0m\u001b[0;34m(\u001b[0m\u001b[0mkey\u001b[0m\u001b[0;34m)\u001b[0m\u001b[0;34m\u001b[0m\u001b[0;34m\u001b[0m\u001b[0m\n\u001b[0m\u001b[1;32m   3459\u001b[0m             \u001b[0;32mif\u001b[0m \u001b[0mis_integer\u001b[0m\u001b[0;34m(\u001b[0m\u001b[0mindexer\u001b[0m\u001b[0;34m)\u001b[0m\u001b[0;34m:\u001b[0m\u001b[0;34m\u001b[0m\u001b[0;34m\u001b[0m\u001b[0m\n\u001b[1;32m   3460\u001b[0m                 \u001b[0mindexer\u001b[0m \u001b[0;34m=\u001b[0m \u001b[0;34m[\u001b[0m\u001b[0mindexer\u001b[0m\u001b[0;34m]\u001b[0m\u001b[0;34m\u001b[0m\u001b[0;34m\u001b[0m\u001b[0m\n",
            "\u001b[0;32m/usr/local/lib/python3.7/dist-packages/pandas/core/indexes/base.py\u001b[0m in \u001b[0;36mget_loc\u001b[0;34m(self, key, method, tolerance)\u001b[0m\n\u001b[1;32m   3361\u001b[0m                 \u001b[0;32mreturn\u001b[0m \u001b[0mself\u001b[0m\u001b[0;34m.\u001b[0m\u001b[0m_engine\u001b[0m\u001b[0;34m.\u001b[0m\u001b[0mget_loc\u001b[0m\u001b[0;34m(\u001b[0m\u001b[0mcasted_key\u001b[0m\u001b[0;34m)\u001b[0m\u001b[0;34m\u001b[0m\u001b[0;34m\u001b[0m\u001b[0m\n\u001b[1;32m   3362\u001b[0m             \u001b[0;32mexcept\u001b[0m \u001b[0mKeyError\u001b[0m \u001b[0;32mas\u001b[0m \u001b[0merr\u001b[0m\u001b[0;34m:\u001b[0m\u001b[0;34m\u001b[0m\u001b[0;34m\u001b[0m\u001b[0m\n\u001b[0;32m-> 3363\u001b[0;31m                 \u001b[0;32mraise\u001b[0m \u001b[0mKeyError\u001b[0m\u001b[0;34m(\u001b[0m\u001b[0mkey\u001b[0m\u001b[0;34m)\u001b[0m \u001b[0;32mfrom\u001b[0m \u001b[0merr\u001b[0m\u001b[0;34m\u001b[0m\u001b[0;34m\u001b[0m\u001b[0m\n\u001b[0m\u001b[1;32m   3364\u001b[0m \u001b[0;34m\u001b[0m\u001b[0m\n\u001b[1;32m   3365\u001b[0m         \u001b[0;32mif\u001b[0m \u001b[0mis_scalar\u001b[0m\u001b[0;34m(\u001b[0m\u001b[0mkey\u001b[0m\u001b[0;34m)\u001b[0m \u001b[0;32mand\u001b[0m \u001b[0misna\u001b[0m\u001b[0;34m(\u001b[0m\u001b[0mkey\u001b[0m\u001b[0;34m)\u001b[0m \u001b[0;32mand\u001b[0m \u001b[0;32mnot\u001b[0m \u001b[0mself\u001b[0m\u001b[0;34m.\u001b[0m\u001b[0mhasnans\u001b[0m\u001b[0;34m:\u001b[0m\u001b[0;34m\u001b[0m\u001b[0;34m\u001b[0m\u001b[0m\n",
            "\u001b[0;31mKeyError\u001b[0m: '21\\n1114     140-17\\n2119     975-31\\n3309     348-66\\n3409     496-18\\n3588     188-03\\n4565     928-74\\n4587     273-45\\n4971     559-63\\n5372     631-85\\n5532     981-00\\n5834     319-49\\n5849     473-07\\n6315     893-81\\n7885     854-55\\n8094     604-36\\n8183     352-23\\n8223     586-51\\n9033     570-14\\n9751     518-41\\n10205    424-72\\n10625    852-67\\n10689    403-11\\n10959    502-05\\n11020    529-37\\n11740    864-83\\n11957    856-04\\n12206    128-61\\n12399       NaN\\nName: CÉDULA, dtype: object-172      680'"
          ]
        }
      ],
      "source": [
        "#Permite ajustar lso datos de dos formas\n",
        "\n",
        "removeOrSwapDatos = False\n",
        "if removeOrSwapDatos:\n",
        "  # elimina los datos cuando no corresponden con el formato correcto \n",
        "  homicides_df = homicides_df[~homicides_df['CÉDULA'].isin(cedula_malformed[\"CÉDULA\"])]\n",
        "else:\n",
        "  print(\"Invertir datos\")\n",
        "  # Invierte los datos \n",
        "  # homicides_df['CÉDULA'] = homicides_df.loc[homicides_df.CÉDULA.isin(cedula_malformed.CÉDULA), fixCedula(cedula_malformed['CÉDULA'])] \n"
      ]
    },
    {
      "cell_type": "markdown",
      "metadata": {
        "id": "pwv1VGxdwMgJ"
      },
      "source": [
        "<span style=\"color:red\">TODO: Make something similar to check and fix the \"CORREO\" column (PATTERN: 4 digits before the @, only .edu.co and .com domains allowed)</span>"
      ]
    },
    {
      "cell_type": "code",
      "execution_count": null,
      "metadata": {
        "colab": {
          "base_uri": "https://localhost:8080/"
        },
        "id": "LY2jDzcywMgJ",
        "outputId": "214eacbc-2eb0-4a09-a56a-fce8e3246228"
      },
      "outputs": [
        {
          "output_type": "execute_result",
          "data": {
            "text/plain": [
              "0        agbnqg2122@unidatos.edu.co\n",
              "1              rbkeui3584@gmail.com\n",
              "2        aorkhf9155@unidatos.edu.co\n",
              "3        dhtemr6623@unidatos.edu.co\n",
              "4        artatj9268@unidatos.edu.co\n",
              "                    ...            \n",
              "12395    correo4352@colombia.gov.co\n",
              "12396    fktatq9245@unidatos.edu.co\n",
              "12397          gafkup6393@gmail.com\n",
              "12398     correo736@unidatos.edu.co\n",
              "12399                           NaN\n",
              "Name: CORREO, Length: 11564, dtype: object"
            ]
          },
          "metadata": {},
          "execution_count": 217
        }
      ],
      "source": [
        "homicides_df.CORREO"
      ]
    },
    {
      "cell_type": "code",
      "source": [
        "homicides_df.count()[0]"
      ],
      "metadata": {
        "colab": {
          "base_uri": "https://localhost:8080/"
        },
        "id": "4zsPcLqnigjj",
        "outputId": "6821fc23-3557-442f-fbd5-582880e7d25f"
      },
      "execution_count": null,
      "outputs": [
        {
          "output_type": "execute_result",
          "data": {
            "text/plain": [
              "12400"
            ]
          },
          "metadata": {},
          "execution_count": 566
        }
      ]
    },
    {
      "cell_type": "code",
      "source": [
        "# Se busca y elimina correos que no cumplan con la estructura solicitada \n",
        "badMails = homicides_df.loc[homicides_df[\"CORREO\"].astype(str).apply(lambda x: (re.match(\"^[a-zA-Z0-9]+[0-9]{4,}@[a-zA-Z0-9]{1,}.(com|edu.co)$\", x) is None))]"
      ],
      "metadata": {
        "id": "cb8plm7DiVdv"
      },
      "execution_count": null,
      "outputs": []
    },
    {
      "cell_type": "code",
      "source": [
        "badMails.CORREO"
      ],
      "metadata": {
        "colab": {
          "base_uri": "https://localhost:8080/"
        },
        "id": "HGgTVX_tln0m",
        "outputId": "f27fbfaa-e5b4-4a23-f35d-a057b3e28c2d"
      },
      "execution_count": null,
      "outputs": [
        {
          "output_type": "execute_result",
          "data": {
            "text/plain": [
              "28        correo975@unidatos.edu.co\n",
              "36       correo4714@colombia.gov.co\n",
              "47       correo8297@colombia.gov.co\n",
              "55       correo7285@colombia.gov.co\n",
              "60        correo870@unidatos.edu.co\n",
              "                    ...            \n",
              "12387    correo3558@colombia.gov.co\n",
              "12392     correo295@unidatos.edu.co\n",
              "12395    correo4352@colombia.gov.co\n",
              "12398     correo736@unidatos.edu.co\n",
              "12399                           NaN\n",
              "Name: CORREO, Length: 2294, dtype: object"
            ]
          },
          "metadata": {},
          "execution_count": 581
        }
      ]
    },
    {
      "cell_type": "code",
      "source": [
        "homicides_df = homicides_df[~homicides_df['CORREO'].isin(badMails[\"CORREO\"])]"
      ],
      "metadata": {
        "id": "0XvwGzzelvLj"
      },
      "execution_count": null,
      "outputs": []
    },
    {
      "cell_type": "code",
      "source": [
        "homicides_df.count()[0]"
      ],
      "metadata": {
        "colab": {
          "base_uri": "https://localhost:8080/"
        },
        "id": "IbATKn83ihAt",
        "outputId": "ecd5bbfa-28ea-4b6c-97dc-fd75bd8adad9"
      },
      "execution_count": null,
      "outputs": [
        {
          "output_type": "execute_result",
          "data": {
            "text/plain": [
              "10106"
            ]
          },
          "metadata": {},
          "execution_count": 583
        }
      ]
    },
    {
      "cell_type": "code",
      "execution_count": null,
      "metadata": {
        "colab": {
          "base_uri": "https://localhost:8080/"
        },
        "id": "_bHgWuPSwMgJ",
        "outputId": "28d1b68f-1943-495c-c8a5-abf6cf01bf2e"
      },
      "outputs": [
        {
          "output_type": "execute_result",
          "data": {
            "text/plain": [
              "array(['Jueves', 'Juees', 'Jueces', 'juves', 'Juevrs', 'Viernes',\n",
              "       'iernes', 'virnes', 'Vierens', 'Sábado', 'Sabadi', 'Sabado',\n",
              "       'sábad', 'Sávado', 'Ssbado', 'Domingo', 'domungo', 'Lunes', 'lune',\n",
              "       'Luns', 'Lumes', 'kunes', 'Lnues', 'Martes', 'mates', 'Mates',\n",
              "       'Marte', 'Miércoles', 'Miwrcoles', 'Mircoles', 'Voernes',\n",
              "       'Viermes', 'Domungo', 'domnigo', 'Doningo', 'Maryes', 'Miercoles',\n",
              "       'miércles', 'Dominog', 'Msrtes', 'Mirrcoles'], dtype=object)"
            ]
          },
          "metadata": {},
          "execution_count": 587
        }
      ],
      "source": [
        "# Showing different values for \"DIA\" column\n",
        "homicides_df[\"DIA\"].unique()"
      ]
    },
    {
      "cell_type": "code",
      "source": [
        "okDays = ['Lunes', 'Marte', 'Miércoles', 'Jueves', 'Viernes', 'Sabado', 'Domingo']"
      ],
      "metadata": {
        "id": "J1WK_GqbrYoV"
      },
      "execution_count": null,
      "outputs": []
    },
    {
      "cell_type": "code",
      "execution_count": null,
      "metadata": {
        "colab": {
          "base_uri": "https://localhost:8080/"
        },
        "id": "PBtGN_4IwMgJ",
        "outputId": "20030ede-6610-45c8-f654-c4277ed17d98"
      },
      "outputs": [
        {
          "output_type": "execute_result",
          "data": {
            "text/plain": [
              "4"
            ]
          },
          "metadata": {},
          "execution_count": 597
        }
      ],
      "source": [
        "# Calculating the distance between two words using the Levenshtein method\n",
        "pylev.levenshtein('Lunes', 'Maryes')"
      ]
    },
    {
      "cell_type": "code",
      "execution_count": null,
      "metadata": {
        "colab": {
          "base_uri": "https://localhost:8080/"
        },
        "id": "pyFK3UrIwMgJ",
        "outputId": "137a595d-53f4-45f8-aacc-5f446a3aaf82"
      },
      "outputs": [
        {
          "output_type": "execute_result",
          "data": {
            "text/plain": [
              "7"
            ]
          },
          "metadata": {},
          "execution_count": 584
        }
      ],
      "source": [
        "pylev.levenshtein('sábado', 'viernes')"
      ]
    },
    {
      "cell_type": "markdown",
      "metadata": {
        "id": "UeodjAirwMgK"
      },
      "source": [
        "<span style=\"color:red\">TODO: Create a function to fix the digitation errors for column \"DIA\". Make sure to update original dataframe.</span>"
      ]
    },
    {
      "cell_type": "code",
      "execution_count": null,
      "metadata": {
        "colab": {
          "base_uri": "https://localhost:8080/"
        },
        "id": "sy7Lk7mFwMgK",
        "outputId": "c1085a33-871d-4f18-a582-3fb15e4965c7"
      },
      "outputs": [
        {
          "output_type": "execute_result",
          "data": {
            "text/plain": [
              "array(['Jueves', 'Juees', 'Jueces', 'juves', 'Juevrs', 'Viernes',\n",
              "       'iernes', 'virnes', 'Vierens', 'Sábado', 'Sabadi', 'Sabado',\n",
              "       'sábad', 'Sávado', 'Ssbado', 'Domingo', 'domungo', 'Lunes', 'lune',\n",
              "       'Luns', 'Lumes', 'kunes', 'Lnues', 'Martes', 'mates', 'Mates',\n",
              "       'Marte', 'Miércoles', 'Miwrcoles', 'Mircoles', 'Voernes',\n",
              "       'Viermes', 'Domungo', 'domnigo', 'Doningo', 'Maryes', 'Miercoles',\n",
              "       'miércles', 'Dominog', 'Msrtes', 'Mirrcoles'], dtype=object)"
            ]
          },
          "metadata": {},
          "execution_count": 596
        }
      ],
      "source": [
        "homicides_df[\"DIA\"].unique()"
      ]
    },
    {
      "cell_type": "code",
      "execution_count": null,
      "metadata": {
        "colab": {
          "base_uri": "https://localhost:8080/",
          "height": 363
        },
        "id": "s_-od7c-wMgK",
        "outputId": "d6ce6ee3-38ae-48b9-f9d1-e4bc26c29c10"
      },
      "outputs": [
        {
          "output_type": "execute_result",
          "data": {
            "text/plain": [
              "   AÑO DE NACIMIENTO  EDAD\n",
              "0             1978.0  44.0\n",
              "1             1992.0  30.0\n",
              "2             1989.0  33.0\n",
              "3             1982.0  40.0\n",
              "4             1956.0  66.0\n",
              "5             1980.0  42.0\n",
              "6             1997.0  25.0\n",
              "7             1985.0  37.0\n",
              "8             1997.0  25.0\n",
              "9             1992.0  30.0"
            ],
            "text/html": [
              "\n",
              "  <div id=\"df-96753e62-b1b4-4031-ac26-f18baffb7cf1\">\n",
              "    <div class=\"colab-df-container\">\n",
              "      <div>\n",
              "<style scoped>\n",
              "    .dataframe tbody tr th:only-of-type {\n",
              "        vertical-align: middle;\n",
              "    }\n",
              "\n",
              "    .dataframe tbody tr th {\n",
              "        vertical-align: top;\n",
              "    }\n",
              "\n",
              "    .dataframe thead th {\n",
              "        text-align: right;\n",
              "    }\n",
              "</style>\n",
              "<table border=\"1\" class=\"dataframe\">\n",
              "  <thead>\n",
              "    <tr style=\"text-align: right;\">\n",
              "      <th></th>\n",
              "      <th>AÑO DE NACIMIENTO</th>\n",
              "      <th>EDAD</th>\n",
              "    </tr>\n",
              "  </thead>\n",
              "  <tbody>\n",
              "    <tr>\n",
              "      <th>0</th>\n",
              "      <td>1978.0</td>\n",
              "      <td>44.0</td>\n",
              "    </tr>\n",
              "    <tr>\n",
              "      <th>1</th>\n",
              "      <td>1992.0</td>\n",
              "      <td>30.0</td>\n",
              "    </tr>\n",
              "    <tr>\n",
              "      <th>2</th>\n",
              "      <td>1989.0</td>\n",
              "      <td>33.0</td>\n",
              "    </tr>\n",
              "    <tr>\n",
              "      <th>3</th>\n",
              "      <td>1982.0</td>\n",
              "      <td>40.0</td>\n",
              "    </tr>\n",
              "    <tr>\n",
              "      <th>4</th>\n",
              "      <td>1956.0</td>\n",
              "      <td>66.0</td>\n",
              "    </tr>\n",
              "    <tr>\n",
              "      <th>5</th>\n",
              "      <td>1980.0</td>\n",
              "      <td>42.0</td>\n",
              "    </tr>\n",
              "    <tr>\n",
              "      <th>6</th>\n",
              "      <td>1997.0</td>\n",
              "      <td>25.0</td>\n",
              "    </tr>\n",
              "    <tr>\n",
              "      <th>7</th>\n",
              "      <td>1985.0</td>\n",
              "      <td>37.0</td>\n",
              "    </tr>\n",
              "    <tr>\n",
              "      <th>8</th>\n",
              "      <td>1997.0</td>\n",
              "      <td>25.0</td>\n",
              "    </tr>\n",
              "    <tr>\n",
              "      <th>9</th>\n",
              "      <td>1992.0</td>\n",
              "      <td>30.0</td>\n",
              "    </tr>\n",
              "  </tbody>\n",
              "</table>\n",
              "</div>\n",
              "      <button class=\"colab-df-convert\" onclick=\"convertToInteractive('df-96753e62-b1b4-4031-ac26-f18baffb7cf1')\"\n",
              "              title=\"Convert this dataframe to an interactive table.\"\n",
              "              style=\"display:none;\">\n",
              "        \n",
              "  <svg xmlns=\"http://www.w3.org/2000/svg\" height=\"24px\"viewBox=\"0 0 24 24\"\n",
              "       width=\"24px\">\n",
              "    <path d=\"M0 0h24v24H0V0z\" fill=\"none\"/>\n",
              "    <path d=\"M18.56 5.44l.94 2.06.94-2.06 2.06-.94-2.06-.94-.94-2.06-.94 2.06-2.06.94zm-11 1L8.5 8.5l.94-2.06 2.06-.94-2.06-.94L8.5 2.5l-.94 2.06-2.06.94zm10 10l.94 2.06.94-2.06 2.06-.94-2.06-.94-.94-2.06-.94 2.06-2.06.94z\"/><path d=\"M17.41 7.96l-1.37-1.37c-.4-.4-.92-.59-1.43-.59-.52 0-1.04.2-1.43.59L10.3 9.45l-7.72 7.72c-.78.78-.78 2.05 0 2.83L4 21.41c.39.39.9.59 1.41.59.51 0 1.02-.2 1.41-.59l7.78-7.78 2.81-2.81c.8-.78.8-2.07 0-2.86zM5.41 20L4 18.59l7.72-7.72 1.47 1.35L5.41 20z\"/>\n",
              "  </svg>\n",
              "      </button>\n",
              "      \n",
              "  <style>\n",
              "    .colab-df-container {\n",
              "      display:flex;\n",
              "      flex-wrap:wrap;\n",
              "      gap: 12px;\n",
              "    }\n",
              "\n",
              "    .colab-df-convert {\n",
              "      background-color: #E8F0FE;\n",
              "      border: none;\n",
              "      border-radius: 50%;\n",
              "      cursor: pointer;\n",
              "      display: none;\n",
              "      fill: #1967D2;\n",
              "      height: 32px;\n",
              "      padding: 0 0 0 0;\n",
              "      width: 32px;\n",
              "    }\n",
              "\n",
              "    .colab-df-convert:hover {\n",
              "      background-color: #E2EBFA;\n",
              "      box-shadow: 0px 1px 2px rgba(60, 64, 67, 0.3), 0px 1px 3px 1px rgba(60, 64, 67, 0.15);\n",
              "      fill: #174EA6;\n",
              "    }\n",
              "\n",
              "    [theme=dark] .colab-df-convert {\n",
              "      background-color: #3B4455;\n",
              "      fill: #D2E3FC;\n",
              "    }\n",
              "\n",
              "    [theme=dark] .colab-df-convert:hover {\n",
              "      background-color: #434B5C;\n",
              "      box-shadow: 0px 1px 3px 1px rgba(0, 0, 0, 0.15);\n",
              "      filter: drop-shadow(0px 1px 2px rgba(0, 0, 0, 0.3));\n",
              "      fill: #FFFFFF;\n",
              "    }\n",
              "  </style>\n",
              "\n",
              "      <script>\n",
              "        const buttonEl =\n",
              "          document.querySelector('#df-96753e62-b1b4-4031-ac26-f18baffb7cf1 button.colab-df-convert');\n",
              "        buttonEl.style.display =\n",
              "          google.colab.kernel.accessAllowed ? 'block' : 'none';\n",
              "\n",
              "        async function convertToInteractive(key) {\n",
              "          const element = document.querySelector('#df-96753e62-b1b4-4031-ac26-f18baffb7cf1');\n",
              "          const dataTable =\n",
              "            await google.colab.kernel.invokeFunction('convertToInteractive',\n",
              "                                                     [key], {});\n",
              "          if (!dataTable) return;\n",
              "\n",
              "          const docLinkHtml = 'Like what you see? Visit the ' +\n",
              "            '<a target=\"_blank\" href=https://colab.research.google.com/notebooks/data_table.ipynb>data table notebook</a>'\n",
              "            + ' to learn more about interactive tables.';\n",
              "          element.innerHTML = '';\n",
              "          dataTable['output_type'] = 'display_data';\n",
              "          await google.colab.output.renderOutput(dataTable, element);\n",
              "          const docLink = document.createElement('div');\n",
              "          docLink.innerHTML = docLinkHtml;\n",
              "          element.appendChild(docLink);\n",
              "        }\n",
              "      </script>\n",
              "    </div>\n",
              "  </div>\n",
              "  "
            ]
          },
          "metadata": {},
          "execution_count": 44
        }
      ],
      "source": [
        "homicides_df[[\"AÑO DE NACIMIENTO\", \"EDAD\"]].head(10)"
      ]
    },
    {
      "cell_type": "markdown",
      "metadata": {
        "id": "JdKAzx-xwMgK"
      },
      "source": [
        "<span style=\"color:red\">TODO: Check and fix, if apply, the column \"AÑO DE NACIMIENTO\", using the column \"EDAD\". Make sure to update original dataframe.</span>"
      ]
    },
    {
      "cell_type": "code",
      "source": [
        "# funcion que recibe parametro edad y calcula el año correcto de nacimiento\n",
        "def calculate_year_of_birth(age):\n",
        "    return 2022 - age"
      ],
      "metadata": {
        "id": "htB95hdOwZ5L"
      },
      "execution_count": null,
      "outputs": []
    },
    {
      "cell_type": "code",
      "execution_count": null,
      "metadata": {
        "id": "eVZYBw_KwMgK"
      },
      "outputs": [],
      "source": [
        "# Calcula el año de nacimiento segun la edad y lo remplaza por el año correcto \n",
        "homicides_df['AÑO DE NACIMIENTO'] = homicides_df['EDAD'].apply(calculate_year_of_birth)\n"
      ]
    }
  ],
  "metadata": {
    "kernelspec": {
      "display_name": "Python 3",
      "language": "python",
      "name": "python3"
    },
    "language_info": {
      "codemirror_mode": {
        "name": "ipython",
        "version": 3
      },
      "file_extension": ".py",
      "mimetype": "text/x-python",
      "name": "python",
      "nbconvert_exporter": "python",
      "pygments_lexer": "ipython3",
      "version": "3.7.6"
    },
    "colab": {
      "name": "data-quality-tutorial.ipynb",
      "provenance": [],
      "collapsed_sections": []
    }
  },
  "nbformat": 4,
  "nbformat_minor": 0
}